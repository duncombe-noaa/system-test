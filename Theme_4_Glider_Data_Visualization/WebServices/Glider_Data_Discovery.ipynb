{
 "metadata": {
  "name": "",
  "signature": "sha256:b2e40108916bf341705b093ab164ff49f0bb1d74e852e13b548c9db42c52fe1f"
 },
 "nbformat": 3,
 "nbformat_minor": 0,
 "worksheets": [
  {
   "cells": [
    {
     "cell_type": "markdown",
     "metadata": {},
     "source": [
      "# Glider Data Discovery\n",
      "\n",
      "Questions: Can we discover where the glider data are kept? Where are they publicly accessible?\n",
      "Do we start with the list of providers in catalog ?\n"
     ]
    },
    {
     "cell_type": "markdown",
     "metadata": {},
     "source": [
      "Answer: Start by filling in some cells. We'll come back later and fix as things break. Basically, assume the script we are copying from is using more and different stuff than we need, so don't use everything they use, unless we have to.\n",
      "\n",
      "I am copying from `Scenario_1C_WebService_Strings`, almost at random although I started out thinking about glider data services, so \"service strings\" resonated.\n"
     ]
    },
    {
     "cell_type": "code",
     "collapsed": false,
     "input": [
      "import pandas as pd # we probably need this, so put it in\n",
      "import numpy as np  # gonna have to work with numbers...\n",
      "import matplotlib.pyplot as plt  # surely, we will need to plot\n",
      "\n",
      "from owslib.csw import CatalogueServiceWeb\n",
      "from owslib.wms import WebMapService\n",
      "from owslib.sos import SensorObservationService\n",
      "from owslib.etree import etree\n",
      "from owslib import fes\n",
      "# service_urls is defined below, but may go into a utilities.py later\n",
      "# from utilities import (service_urls, )\n",
      "import netCDF4\n"
     ],
     "language": "python",
     "metadata": {},
     "outputs": [],
     "prompt_number": 1
    },
    {
     "cell_type": "code",
     "collapsed": false,
     "input": [
      "#This is a collection of lists that we will need to examine Catalogs \n",
      "\n",
      "web_service_strings = ['urn:x-esri:specification:ServiceType:OPeNDAP',\n",
      "                       'urn:x-esri:specification:ServiceType:odp:url',\n",
      "                       'urn:x-esri:specification:ServiceType:WMS',\n",
      "                       'urn:x-esri:specification:ServiceType:wms:url',\n",
      "                       'urn:x-esri:specification:ServiceType:sos:url',\n",
      "                       'urn:x-esri:specification:ServiceType:wcs:url']\n",
      "\n",
      "\n",
      "services =      {'SOS'              : 'urn:x-esri:specification:ServiceType:sos:url',\n",
      "                 'WMS'              : 'urn:x-esri:specification:ServiceType:wms:url',\n",
      "                 'WCS'              : 'urn:x-esri:specification:ServiceType:wcs:url',\n",
      "                 'DAP'              : 'urn:x-esri:specification:ServiceType:odp:url' }\n"
     ],
     "language": "python",
     "metadata": {},
     "outputs": [],
     "prompt_number": 2
    },
    {
     "cell_type": "code",
     "collapsed": false,
     "input": [
      "# This cell lists catalog endpoints.  As CSW's are discovered within the larger\n",
      "#    IOOS Umbrella, this list is updated by the IOOS Program Office here:\n",
      "#    https://github.com/ioos/system-test/wiki/Service-Registries-and-Data-Catalogs\n",
      "\n",
      "\n",
      "endpoints = ['http://www.nodc.noaa.gov/geoportal/csw',\n",
      "             'http://www.ngdc.noaa.gov/geoportal/csw',\n",
      "             'http://catalog.data.gov/csw-all',\n",
      "             # 'http://cwic.csiss.gmu.edu/cwicv1/discovery',\n",
      "             'http://geoport.whoi.edu/geoportal/csw',\n",
      "             #'https://edg.epa.gov/metadata/csw',\n",
      "             'http://cmgds.marine.usgs.gov/geonetwork/srv/en/csw',\n",
      "             'http://cida.usgs.gov/gdp/geonetwork/srv/en/csw',\n",
      "             'http://geodiscover.cgdi.ca/wes/serviceManagerCSW/csw', \n",
      "             # 'http://geoport.whoi.edu/gi-cat/services/cswiso'\n",
      "             ]\n"
     ],
     "language": "python",
     "metadata": {},
     "outputs": [],
     "prompt_number": 3
    },
    {
     "cell_type": "code",
     "collapsed": false,
     "input": [
      "# print endpoints[0]\n",
      "# print services['SOS']\n",
      "# print web_service_strings[0]\n"
     ],
     "language": "python",
     "metadata": {},
     "outputs": [],
     "prompt_number": 4
    },
    {
     "cell_type": "code",
     "collapsed": false,
     "input": [
      "\n",
      "# It seems we have to generate urls from our above set of variables!\n",
      "\n",
      "def service_urls(records,service_string='urn:x-esri:specification:ServiceType:wms:url'):\n",
      "    urls=[]\n",
      "    for key,rec in records.iteritems():\n",
      "        #create a generator object, and iterate through it until the match is found\n",
      "        #if not found, gets the default value (here \"none\")\n",
      "        url = next((d['url'] for d in rec.references if d['scheme'] == service_string), None)\n",
      "        if url is not None:\n",
      "            urls.append(url)\n",
      "    return urls\n"
     ],
     "language": "python",
     "metadata": {},
     "outputs": [],
     "prompt_number": 5
    },
    {
     "cell_type": "code",
     "collapsed": false,
     "input": [
      "# Initialize some stuff\n",
      "records1 = []\n",
      "titles1 = []\n",
      "lenrecords1 = []\n",
      "lentitles1 = []\n",
      "list1 = []\n",
      "list2 = []\n",
      "list3 = []\n",
      "dict1 = {}\n",
      "dict2 = {}\n",
      "dict3 = {}\n",
      "list4 = []\n",
      "lenurls = []"
     ],
     "language": "python",
     "metadata": {},
     "outputs": [],
     "prompt_number": 6
    },
    {
     "cell_type": "code",
     "collapsed": false,
     "input": [
      "# endpoint=endpoints[2]\n",
      "# csw = CatalogueServiceWeb(endpoint,timeout=100)\n",
      "# csw.getrecords2(maxrecords = 100)\n",
      "\n",
      "if True:\n",
      "    for endpoint in endpoints:\n",
      "        print endpoint\n",
      "        csw = CatalogueServiceWeb(endpoint,timeout=100)\n",
      "        csw.getrecords2(maxrecords = 100)\n",
      "        for web_service_string in web_service_strings:\n",
      "            urls1 = service_urls(csw.records,service_string=web_service_string)\n",
      "            list3.append(urls1)\n",
      "            list1.append(web_service_string)\n",
      "            list2.append(endpoint)\n",
      "            list4.append(len(urls1))\n",
      "            dict2['Service_URL']= list1\n",
      "            dict2['endpoint'] = list2\n",
      "            dict2['urls'] = list3\n",
      "            dict2['number_urls'] = list4\n",
      "            "
     ],
     "language": "python",
     "metadata": {},
     "outputs": [
      {
       "output_type": "stream",
       "stream": "stdout",
       "text": [
        "http://www.nodc.noaa.gov/geoportal/csw\n",
        "http://www.ngdc.noaa.gov/geoportal/csw"
       ]
      },
      {
       "output_type": "stream",
       "stream": "stdout",
       "text": [
        "\n",
        "http://catalog.data.gov/csw-all"
       ]
      },
      {
       "output_type": "stream",
       "stream": "stdout",
       "text": [
        "\n",
        "http://geoport.whoi.edu/geoportal/csw"
       ]
      },
      {
       "output_type": "stream",
       "stream": "stdout",
       "text": [
        "\n",
        "http://cmgds.marine.usgs.gov/geonetwork/srv/en/csw"
       ]
      },
      {
       "output_type": "stream",
       "stream": "stdout",
       "text": [
        "\n",
        "http://cida.usgs.gov/gdp/geonetwork/srv/en/csw"
       ]
      },
      {
       "output_type": "stream",
       "stream": "stdout",
       "text": [
        "\n",
        "http://geodiscover.cgdi.ca/wes/serviceManagerCSW/csw"
       ]
      },
      {
       "output_type": "stream",
       "stream": "stdout",
       "text": [
        "\n"
       ]
      }
     ],
     "prompt_number": 7
    },
    {
     "cell_type": "markdown",
     "metadata": {},
     "source": [
      "Turns out does not look terribly useful. Lets move on!"
     ]
    }
   ],
   "metadata": {}
  }
 ]
}