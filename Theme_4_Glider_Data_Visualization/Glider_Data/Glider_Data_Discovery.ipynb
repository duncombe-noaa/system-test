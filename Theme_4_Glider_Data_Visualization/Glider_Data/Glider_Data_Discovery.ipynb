{
 "metadata": {
  "name": "",
  "signature": "sha256:05dc69196c1edb9b275dab567d655438ed33753dd5e4f3bdded30f77e75be157"
 },
 "nbformat": 3,
 "nbformat_minor": 0,
 "worksheets": [
  {
   "cells": [
    {
     "cell_type": "markdown",
     "metadata": {},
     "source": [
      "# Glider Data Discovery\n",
      "\n",
      "Can we discover where the glider data are kept? Where are they publicly accessable?\n"
     ]
    },
    {
     "cell_type": "markdown",
     "metadata": {},
     "source": [
      "Start with the list of providers in catalog ?\n",
      "\n"
     ]
    }
   ],
   "metadata": {}
  }
 ]
}