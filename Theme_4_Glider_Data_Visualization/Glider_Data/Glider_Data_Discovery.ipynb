{
 "metadata": {
  "name": "",
  "signature": "sha256:98352f82fff5f3816922a7748474de355e323d4dd836942de6669efaf57ac565"
 },
 "nbformat": 3,
 "nbformat_minor": 0,
 "worksheets": [
  {
   "cells": [
    {
     "cell_type": "markdown",
     "metadata": {},
     "source": [
      "# Glider Data Discovery\n",
      "\n",
      "Questions: Can we discover where the glider data are kept? Where are they publicly accessible?\n",
      "Do we start with the list of providers in catalog ?\n"
     ]
    },
    {
     "cell_type": "markdown",
     "metadata": {},
     "source": [
      "Answer: Start by filling in some cells. We'll come back later and fix as things break. Basically, assume the script we are copying from is using more and different stuff than we need, so don't use everything they use, unless we have to.\n",
      "\n",
      "I am copying from `Scenario_1C_WebService_Strings`, almost at random although I started out thinking about glider data services, so \"service strings\" resonated.\n"
     ]
    },
    {
     "cell_type": "code",
     "collapsed": false,
     "input": [
      "import pandas as pd # we probably need this, so put it in\n",
      "import numpy as np  # gonna have to work with numbers...\n",
      "import matplotlib.pyplot as plt  # surely, we will need to plot\n",
      "\n",
      "from owslib.csw import CatalogueServiceWeb\n",
      "from owslib.wms import WebMapService\n",
      "from owslib.sos import SensorObservationService\n",
      "from owslib.etree import etree\n",
      "from owslib import fes\n",
      "from utilities import (service_urls, )\n",
      "import netCDF4\n"
     ],
     "language": "python",
     "metadata": {},
     "outputs": [],
     "prompt_number": 1
    },
    {
     "cell_type": "code",
     "collapsed": false,
     "input": [
      "#This is a collection of lists that we will need to examine Catalogs \n",
      "\n",
      "web_service_strings = ['urn:x-esri:specification:ServiceType:OPeNDAP',\n",
      "                       'urn:x-esri:specification:ServiceType:odp:url',\n",
      "                       'urn:x-esri:specification:ServiceType:WMS',\n",
      "                       'urn:x-esri:specification:ServiceType:wms:url',\n",
      "                       'urn:x-esri:specification:ServiceType:sos:url',\n",
      "                       'urn:x-esri:specification:ServiceType:wcs:url']\n",
      "\n",
      "\n",
      "services =      {'SOS'              : 'urn:x-esri:specification:ServiceType:sos:url',\n",
      "                 'WMS'              : 'urn:x-esri:specification:ServiceType:wms:url',\n",
      "                 'WCS'              : 'urn:x-esri:specification:ServiceType:wcs:url',\n",
      "                 'DAP'              : 'urn:x-esri:specification:ServiceType:odp:url' }\n"
     ],
     "language": "python",
     "metadata": {},
     "outputs": [],
     "prompt_number": 2
    },
    {
     "cell_type": "code",
     "collapsed": false,
     "input": [
      "# This cell lists catalog endpoints.  As CSW's are discovered within the larger\n",
      "#    IOOS Umbrealla, this list is updated by the IOOS Program Office here:\n",
      "#    https://github.com/ioos/system-test/wiki/Service-Registries-and-Data-Catalogs\n",
      "\n",
      "\n",
      "endpoints = ['http://www.nodc.noaa.gov/geoportal/csw',\n",
      "             'http://www.ngdc.noaa.gov/geoportal/csw',\n",
      "             'http://catalog.data.gov/csw-all',\n",
      "             'http://cwic.csiss.gmu.edu/cwicv1/discovery',\n",
      "             'http://geoport.whoi.edu/geoportal/csw',\n",
      "             'https://edg.epa.gov/metadata/csw',\n",
      "             'http://cmgds.marine.usgs.gov/geonetwork/srv/en/csw',\n",
      "             'http://cida.usgs.gov/gdp/geonetwork/srv/en/csw',\n",
      "             'http://geodiscover.cgdi.ca/wes/serviceManagerCSW/csw', \n",
      "             'http://geoport.whoi.edu/gi-cat/services/cswiso']\n"
     ],
     "language": "python",
     "metadata": {},
     "outputs": [],
     "prompt_number": 3
    },
    {
     "cell_type": "code",
     "collapsed": false,
     "input": [
      "# print endpoints[0]\n",
      "# print services['SOS']\n",
      "# print web_service_strings[0]\n"
     ],
     "language": "python",
     "metadata": {},
     "outputs": [
      {
       "output_type": "stream",
       "stream": "stdout",
       "text": [
        "http://www.nodc.noaa.gov/geoportal/csw\n"
       ]
      }
     ],
     "prompt_number": 5
    },
    {
     "cell_type": "code",
     "collapsed": false,
     "input": [
      "\n",
      "# It seems we have to generate urls from our above set of variables!\n",
      "\n",
      "def service_urls(records,service_string='urn:x-esri:specification:ServiceType:wms:url'):\n",
      "    urls=[]\n",
      "    for key,rec in records.iteritems():\n",
      "        #create a generator object, and iterate through it until the match is found\n",
      "        #if not found, gets the default value (here \"none\")\n",
      "        url = next((d['url'] for d in rec.references if d['scheme'] == service_string), None)\n",
      "        if url is not None:\n",
      "            urls.append(url)\n",
      "    return urls\n"
     ],
     "language": "python",
     "metadata": {},
     "outputs": [],
     "prompt_number": 26
    },
    {
     "cell_type": "code",
     "collapsed": false,
     "input": [
      "# Initialize some stuff\n",
      "records1 = []\n",
      "titles1 = []\n",
      "lenrecords1 = []\n",
      "lentitles1 = []\n",
      "list1 = []\n",
      "list2 = []\n",
      "list3 = []\n",
      "dict1 = {}\n",
      "dict2 = {}\n",
      "dict3 = {}\n",
      "list4 = []\n",
      "lenurls = []"
     ],
     "language": "python",
     "metadata": {},
     "outputs": [],
     "prompt_number": 6
    },
    {
     "cell_type": "code",
     "collapsed": false,
     "input": [
      "endpoint=endpoints[0]\n",
      "csw = CatalogueServiceWeb(endpoint,timeout=100)\n",
      "csw.getrecords2(maxrecords = 100)\n",
      "\n",
      "if False:\n",
      "    for endpoint in endpoints:\n",
      "        csw = CatalogueServiceWeb(endpoint,timeout=100)\n",
      "        csw.getrecords2(maxrecords = 100)\n",
      "        for web_service_string in web_service_strings:\n",
      "            urls1 = service_urls(csw.records,service_string=web_service_string)\n",
      "            list3.append(urls1)\n",
      "            list1.append(web_service_string)\n",
      "            list2.append(endpoint)\n",
      "            list4.append(len(urls1))\n",
      "            dict2['Service_URL']= list1\n",
      "            dict2['endpoint'] = list2\n",
      "            dict2['urls'] = list3\n",
      "            dict2['number_urls'] = list4\n",
      "            "
     ],
     "language": "python",
     "metadata": {},
     "outputs": [],
     "prompt_number": 7
    },
    {
     "cell_type": "code",
     "collapsed": false,
     "input": [
      "csw.describerecord()\n",
      "service_urls(csw.records)"
     ],
     "language": "python",
     "metadata": {},
     "outputs": [
      {
       "metadata": {},
       "output_type": "pyout",
       "prompt_number": 27,
       "text": [
        "[]"
       ]
      }
     ],
     "prompt_number": 27
    },
    {
     "cell_type": "code",
     "collapsed": false,
     "input": [
      "help(csw)"
     ],
     "language": "python",
     "metadata": {},
     "outputs": [
      {
       "output_type": "stream",
       "stream": "stdout",
       "text": [
        "Help on instance of CatalogueServiceWeb in module owslib.csw:\n",
        "\n",
        "class CatalogueServiceWeb\n",
        " |  csw request class\n",
        " |  \n",
        " |  Methods defined here:\n",
        " |  \n",
        " |  __init__(self, url, lang='en-US', version='2.0.2', timeout=10, skip_caps=False)\n",
        " |      Construct and process a GetCapabilities request\n",
        " |      \n",
        " |      Parameters\n",
        " |      ----------\n",
        " |      \n",
        " |      - url: the URL of the CSW\n",
        " |      - lang: the language (default is 'en-US')\n",
        " |      - version: version (default is '2.0.2')\n",
        " |      - timeout: timeout in seconds\n",
        " |      - skip_caps: whether to skip GetCapabilities processing on init (default is False)\n",
        " |  \n",
        " |  describerecord(self, typename='csw:Record', format='application/xml')\n",
        " |      Construct and process DescribeRecord request\n",
        " |      \n",
        " |      Parameters\n",
        " |      ----------\n",
        " |      \n",
        " |      - typename: the typename to describe (default is 'csw:Record')\n",
        " |      - format: the outputFormat (default is 'application/xml')\n",
        " |  \n",
        " |  getService_urls(self, service_string=None)\n",
        " |      Return easily identifiable URLs for all service types\n",
        " |      \n",
        " |      Parameters\n",
        " |      ----------\n",
        " |      \n",
        " |      - service_string: a URI to lookup\n",
        " |  \n",
        " |  get_operation_by_name(self, name)\n",
        " |      Return a named operation\n",
        " |  \n",
        " |  getdomain(self, dname, dtype='parameter')\n",
        " |      Construct and process a GetDomain request\n",
        " |      \n",
        " |      Parameters\n",
        " |      ----------\n",
        " |      \n",
        " |      - dname: the value of the Parameter or Property to query\n",
        " |      - dtype: whether to query a parameter (parameter) or property (property)\n",
        " |  \n",
        " |  getrecordbyid(self, id=[], esn='full', outputschema='http://www.opengis.net/cat/csw/2.0.2', format='application/xml')\n",
        " |      Construct and process a GetRecordById request\n",
        " |      \n",
        " |      Parameters\n",
        " |      ----------\n",
        " |      \n",
        " |      - id: the list of Ids\n",
        " |      - esn: the ElementSetName 'full', 'brief' or 'summary' (default is 'full')\n",
        " |      - outputschema: the outputSchema (default is 'http://www.opengis.net/cat/csw/2.0.2')\n",
        " |      - format: the outputFormat (default is 'application/xml')\n",
        " |  \n",
        " |  getrecords(self, qtype=None, keywords=[], typenames='csw:Record', propertyname='csw:AnyText', bbox=None, esn='summary', sortby=None, outputschema='http://www.opengis.net/cat/csw/2.0.2', format='application/xml', startposition=0, maxrecords=10, cql=None, xml=None, resulttype='results')\n",
        " |      Construct and process a  GetRecords request\n",
        " |      \n",
        " |      Parameters\n",
        " |      ----------\n",
        " |      \n",
        " |      - qtype: type of resource to query (i.e. service, dataset)\n",
        " |      - keywords: list of keywords\n",
        " |      - typenames: the typeNames to query against (default is csw:Record)\n",
        " |      - propertyname: the PropertyName to Filter against \n",
        " |      - bbox: the bounding box of the spatial query in the form [minx,miny,maxx,maxy]\n",
        " |      - esn: the ElementSetName 'full', 'brief' or 'summary' (default is 'summary')\n",
        " |      - sortby: property to sort results on\n",
        " |      - outputschema: the outputSchema (default is 'http://www.opengis.net/cat/csw/2.0.2')\n",
        " |      - format: the outputFormat (default is 'application/xml')\n",
        " |      - startposition: requests a slice of the result set, starting at this position (default is 0)\n",
        " |      - maxrecords: the maximum number of records to return. No records are returned if 0 (default is 10)\n",
        " |      - cql: common query language text.  Note this overrides bbox, qtype, keywords\n",
        " |      - xml: raw XML request.  Note this overrides all other options\n",
        " |      - resulttype: the resultType 'hits', 'results', 'validate' (default is 'results')\n",
        " |  \n",
        " |  getrecords2(self, constraints=[], sortby=None, typenames='csw:Record', esn='summary', outputschema='http://www.opengis.net/cat/csw/2.0.2', format='application/xml', startposition=0, maxrecords=10, cql=None, xml=None, resulttype='results')\n",
        " |      Construct and process a  GetRecords request\n",
        " |      \n",
        " |      Parameters\n",
        " |      ----------\n",
        " |      \n",
        " |      - constraints: the list of constraints (OgcExpression from owslib.fes module)\n",
        " |      - sortby: an OGC SortBy object (SortBy from owslib.fes module)\n",
        " |      - typenames: the typeNames to query against (default is csw:Record)\n",
        " |      - esn: the ElementSetName 'full', 'brief' or 'summary' (default is 'summary')        \n",
        " |      - outputschema: the outputSchema (default is 'http://www.opengis.net/cat/csw/2.0.2')\n",
        " |      - format: the outputFormat (default is 'application/xml')\n",
        " |      - startposition: requests a slice of the result set, starting at this position (default is 0)\n",
        " |      - maxrecords: the maximum number of records to return. No records are returned if 0 (default is 10)\n",
        " |      - cql: common query language text.  Note this overrides bbox, qtype, keywords\n",
        " |      - xml: raw XML request.  Note this overrides all other options\n",
        " |      - resulttype: the resultType 'hits', 'results', 'validate' (default is 'results')\n",
        " |  \n",
        " |  harvest(self, source, resourcetype, resourceformat=None, harvestinterval=None, responsehandler=None)\n",
        " |      Construct and process a Harvest request\n",
        " |      \n",
        " |      Parameters\n",
        " |      ----------\n",
        " |      \n",
        " |      - source: a URI to harvest\n",
        " |      - resourcetype: namespace identifying the type of resource\n",
        " |      - resourceformat: MIME type of the resource\n",
        " |      - harvestinterval: frequency of harvesting, in ISO8601\n",
        " |      - responsehandler: endpoint that CSW should responsd to with response\n",
        " |  \n",
        " |  transaction(self, ttype=None, typename='csw:Record', record=None, propertyname=None, propertyvalue=None, bbox=None, keywords=[], cql=None, identifier=None)\n",
        " |      Construct and process a Transaction request\n",
        " |      \n",
        " |      Parameters\n",
        " |      ----------\n",
        " |      \n",
        " |      - ttype: the type of transaction 'insert, 'update', 'delete'\n",
        " |      - typename: the typename to describe (default is 'csw:Record')\n",
        " |      - record: the XML record to insert\n",
        " |      - propertyname: the RecordProperty/PropertyName to Filter against\n",
        " |      - propertyvalue: the RecordProperty Value to Filter against (for updates)\n",
        " |      - bbox: the bounding box of the spatial query in the form [minx,miny,maxx,maxy]\n",
        " |      - keywords: list of keywords\n",
        " |      - cql: common query language text.  Note this overrides bbox, qtype, keywords\n",
        " |      - identifier: record identifier.  Note this overrides bbox, qtype, keywords, cql\n",
        "\n"
       ]
      }
     ],
     "prompt_number": 21
    }
   ],
   "metadata": {}
  }
 ]
}