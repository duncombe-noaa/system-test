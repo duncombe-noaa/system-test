{
 "metadata": {
  "name": "",
  "signature": "sha256:b481fcc9b9ab7918007cec0feefee70d5ee411a93adf86037d010fc27c9ceb5d"
 },
 "nbformat": 3,
 "nbformat_minor": 0,
 "worksheets": [
  {
   "cells": [
    {
     "cell_type": "markdown",
     "metadata": {},
     "source": [
      "A place to dump broken cells and stuff we decide not to use."
     ]
    },
    {
     "cell_type": "code",
     "collapsed": false,
     "input": [
      "# now they want us to use a file\n",
      "# Open the netCDF file\n",
      "# f = netCDF4.Dataset('data/rtofs_glo_3dz_f006_6hrly_reg3.nc', 'r')\n",
      "# but first lets go to the catalog and get some data\n",
      "\n",
      "\n",
      "# Open dataset. I don't care. I want something quick, even if it's absolutely filthy. Flesh it out and clean it up later.\n",
      "# dataset = netCDF4.Dataset('http://tds.gliders.ioos.us/thredds/dodsC/Scripps-Institution-of-Oceanography_sp025-20140611T1843_TimeUV.ncml?trajectory[0:1:0],platform,instrument_ctd,time_uv[0:1:887],lat_uv[0:1:887],lon_uv[0:1:887],u[0:1:887],u_qc[0:1:887],v[0:1:887],v_qc[0:1:887]') \n",
      "# timevar = dataset.variables['time']\n",
      "# timeindex = netCDF4.date2index(date, timevar) # find time index for desired date.\n",
      "\n",
      "# Problems with the glider data. Can we read ANY data?\n",
      "# dataset= netCDF4.Dataset('/home/cduncomberae/IOOS/unidata-python-workshop/data/rtofs_glo_3dz_f006_6hrly_reg3.nc')\n",
      "# timevar\n",
      "# YES, we can\n",
      "\n",
      "# gfs_catalog_url = \"http://thredds.ucar.edu/thredds/catalog/grib/NCEP/GFS/Global_0p5deg/catalog.xml\" \n",
      "# latest = get_latest_dods_url(gfs_catalog_url)\n",
      "\n",
      "# ioos_glider_catalog = \"http://tds.gliders.ioos.us/thredds/dodsC/Scripps-Institution-of-Oceanography_sp025-20140611T1843_Time.ncml\"\n",
      "# ioos_glider_catalog "
     ],
     "language": "python",
     "metadata": {},
     "outputs": []
    },
    {
     "cell_type": "code",
     "collapsed": false,
     "input": [
      "seq=[1,3,2,4,3,5,6,7,4,3,2]\n",
      "\n",
      "print seq[1::2]"
     ],
     "language": "python",
     "metadata": {},
     "outputs": [
      {
       "output_type": "stream",
       "stream": "stdout",
       "text": [
        "[3, 4, 5, 7, 3]\n"
       ]
      }
     ],
     "prompt_number": 1
    },
    {
     "cell_type": "code",
     "collapsed": false,
     "input": [
      "n=3\n",
      "print seq[n]\n",
      "print seq[1::2][n]\n",
      "n=[1,2,3]\n",
      "print 'seq is ',type(seq)\n",
      "# print n, seq[n]"
     ],
     "language": "python",
     "metadata": {},
     "outputs": [
      {
       "output_type": "stream",
       "stream": "stdout",
       "text": [
        "4\n",
        "7\n",
        "seq is  <type 'list'>\n"
       ]
      }
     ],
     "prompt_number": 11
    },
    {
     "cell_type": "code",
     "collapsed": false,
     "input": [
      "import numpy as np\n",
      "\n",
      "x=np.array(seq)\n",
      "\n",
      "print type(x), x"
     ],
     "language": "python",
     "metadata": {},
     "outputs": [
      {
       "output_type": "stream",
       "stream": "stdout",
       "text": [
        "<type 'numpy.ndarray'> [1 3 2 4 3 5 6 7 4 3 2]\n"
       ]
      }
     ],
     "prompt_number": 16
    },
    {
     "cell_type": "code",
     "collapsed": false,
     "input": [
      "x = np.array([2,3,1,0])\n",
      "print type(x), x"
     ],
     "language": "python",
     "metadata": {},
     "outputs": [
      {
       "output_type": "stream",
       "stream": "stdout",
       "text": [
        "<type 'numpy.ndarray'> [2 3 1 0]\n"
       ]
      }
     ],
     "prompt_number": 19
    },
    {
     "cell_type": "code",
     "collapsed": false,
     "input": [
      "x = np.array([2, 3, 1, 0])\n",
      "print type(x)\n",
      "print x\n",
      "\n",
      "y= np.array([[1,2.0],[0,0],(1+1j,3.)])\n",
      "print type(y)\n",
      "print y\n",
      "\n",
      "x = np.array([[1, 2.0, 1+1j, 3.], [ 2, 3, 1, 0]])\n",
      "print type(x) \n",
      "print x\n",
      "\n",
      "print 'mulktiplication'\n",
      "print np.dot(y,x)"
     ],
     "language": "python",
     "metadata": {},
     "outputs": [
      {
       "output_type": "stream",
       "stream": "stdout",
       "text": [
        "<type 'numpy.ndarray'>\n",
        "[2 3 1 0]\n",
        "<type 'numpy.ndarray'>\n",
        "[[ 1.+0.j  2.+0.j]\n",
        " [ 0.+0.j  0.+0.j]\n",
        " [ 1.+1.j  3.+0.j]]\n",
        "<type 'numpy.ndarray'>\n",
        "[[ 1.+0.j  2.+0.j  1.+1.j  3.+0.j]\n",
        " [ 2.+0.j  3.+0.j  1.+0.j  0.+0.j]]\n",
        "mulktiplication\n",
        "[[  5.+0.j   8.+0.j   3.+1.j   3.+0.j]\n",
        " [  0.+0.j   0.+0.j   0.+0.j   0.+0.j]\n",
        " [  7.+1.j  11.+2.j   3.+2.j   3.+3.j]]\n"
       ]
      }
     ],
     "prompt_number": 36
    },
    {
     "cell_type": "code",
     "collapsed": false,
     "input": [],
     "language": "python",
     "metadata": {},
     "outputs": []
    },
    {
     "cell_type": "code",
     "collapsed": false,
     "input": [
      "np.ones((3,4))*2240"
     ],
     "language": "python",
     "metadata": {},
     "outputs": [
      {
       "metadata": {},
       "output_type": "pyout",
       "prompt_number": 40,
       "text": [
        "array([[ 2240.,  2240.,  2240.,  2240.],\n",
        "       [ 2240.,  2240.,  2240.,  2240.],\n",
        "       [ 2240.,  2240.,  2240.,  2240.]])"
       ]
      }
     ],
     "prompt_number": 40
    }
   ],
   "metadata": {}
  }
 ]
}