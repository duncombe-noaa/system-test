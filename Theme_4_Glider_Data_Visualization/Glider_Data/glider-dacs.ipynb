{
 "metadata": {
  "name": "",
  "signature": "sha256:85bde55bfe80e3e24ec7bc20ea069d5573eb381312ab30d154f067f358712eff"
 },
 "nbformat": 3,
 "nbformat_minor": 0,
 "worksheets": [
  {
   "cells": [
    {
     "cell_type": "markdown",
     "metadata": {},
     "source": [
      "# Discovery Among the Glider DACs\n",
      "\n",
      "IOOS glider related repositories are found at\n",
      "- https://github.com/ioos/glider_dac_thredds_catalog Catalogs for the THREDDS Data Server at: http://tds.gliders.ioos.us/thredds/catalog.html (Version 1?)\n",
      "- https://github.com/ioos/glider-dac The IOOS Glider DAC site/scripts/tools http://gliders.ioos.us  \n",
      "- https://github.com/ioos/glider-dac-catalog Catalogs for IOOS Glider DAC v2 \n",
      "- https://github.com/ioos/ioosngdac  Documents describing the version 2.0 file format and design of the Integrated Ocean Observing System National Glider Data Assembly Center.\n",
      "\n",
      "http://data.ioos.us/gliders/thredds/catalog.html\n",
      "\n",
      "http://data.ioos.us/gliders/erddap/index.html\n",
      "\n",
      "The place to start looks like it should be [the IOOS catalog](http://catalog.ioos.us/). Scratching there around, choose semi-randomly a data info url [http://tds.gliders.ioos.us/thredds/dodsC/University-of-Maine_penobscot-20130910T1658_Time.ncml.html]. Lose the `.html` at the end and you can get the data set information with pydap module. The data are in a thredds server.\n"
     ]
    },
    {
     "cell_type": "code",
     "collapsed": false,
     "input": [
      "# first get some things we need\n",
      "import urllib2 \n",
      "import pandas as pd \n",
      "from pydap.client import open_url\n",
      "# try pyudl instead\n"
     ],
     "language": "python",
     "metadata": {},
     "outputs": []
    },
    {
     "cell_type": "code",
     "collapsed": false,
     "input": [
      "url='http://tds.gliders.ioos.us/thredds/dodsC/University-of-Maine_penobscot-20130910T1658_Time.ncml'\n",
      "\n",
      "# \n",
      "dataset=open_url(url)\n",
      "print dataset\n",
      "# print dataset.attributes\n",
      "print dataset.attributes"
     ],
     "language": "python",
     "metadata": {},
     "outputs": [
      {
       "output_type": "stream",
       "stream": "stdout",
       "text": [
        "{'trajectory': <pydap.model.BaseType object at 0x7fa09c998e10>, 'v': <pydap.model.BaseType object at 0x7fa09c998ed0>, 'platform': <pydap.model.BaseType object at 0x7fa09c93f090>, 'instrument_ctd': <pydap.model.BaseType object at 0x7fa0b819c590>, 'time': <pydap.model.BaseType object at 0x7fa09c4bae90>, 'time_qc': <pydap.model.BaseType object at 0x7fa09c4baa10>, 'segment_id': <pydap.model.BaseType object at 0x7fa09c4ba7d0>, 'profile_id': <pydap.model.BaseType object at 0x7fa09c4badd0>, 'depth': <pydap.model.BaseType object at 0x7fa09c4baf50>, 'depth_qc': <pydap.model.BaseType object at 0x7fa09c4ba710>, 'lat': <pydap.model.BaseType object at 0x7fa09c4bac50>, 'lat_qc': <pydap.model.BaseType object at 0x7fa09c4bad10>, 'lon': <pydap.model.BaseType object at 0x7fa09c4c1110>, 'lon_qc': <pydap.model.BaseType object at 0x7fa09c4c1290>, 'pressure': <pydap.model.BaseType object at 0x7fa09c4c14d0>, 'pressure_qc': <pydap.model.BaseType object at 0x7fa09c4c1490>, 'conductivity': <pydap.model.BaseType object at 0x7fa09c4c1650>, 'conductivity_qc': <pydap.model.BaseType object at 0x7fa09c4c1590>, 'density': <pydap.model.BaseType object at 0x7fa09c4c1390>, 'density_qc': <pydap.model.BaseType object at 0x7fa09c4c1610>, 'salinity': <pydap.model.BaseType object at 0x7fa09c4c1510>, 'salinity_qc': <pydap.model.BaseType object at 0x7fa09c4c13d0>, 'temperature': <pydap.model.BaseType object at 0x7fa09c4c1e10>, 'temperature_qc': <pydap.model.BaseType object at 0x7fa09c4c12d0>}\n",
        "{'NC_GLOBAL': {'comment': 'Data provided by the Mid-Atlantic Regional Association Coastal Ocean Observing System', 'geospatial_vertical_max': 303.4, 'contributor_role': 'Principal Investigator, Principal Investigator, Data Manager', 'format_version': 'IOOS_Glider_NetCDF_Trajectory_Template_v0.0', 'sea_name': 'South Atlantic Ocean', 'geospatial_lat_units': 'degrees_north', 'geospatial_lon_units': 'degrees_east', 'references': '', 'Metadata_Conventions': 'Unidata Dataset Discovery v1.0', 'keywords': 'Oceans > Ocean Pressure > Water Pressure, Oceans > Ocean Temperature > Water Temperature, Oceans > Salinity/Density > Conductivity, Oceans > Salinity/Density > Density, Oceans > Salinity/Density > Salinity', 'summary': \"The Rutgers University Coastal Ocean Observation Lab has deployed autonomous underwater gliders around the world since 1990. Gliders are small, free-swimming, unmanned vehicles that use changes in buoyancy to move vertically and horizontally through the water column in a saw-tooth pattern. They are deployed for days to several months and gather detailed information about the physical, chemical and biological processes of the world's The Slocum glider was designed and oceans. built by Teledyne Webb Research Corporation, Falmouth, MA, USA.\", 'publisher_name': 'John Kerfoot', 'id': 'penobscot-20131015T154959', 'naming_authority': 'edu.rutgers.marine', 'time_coverage_resolution': 'point', 'license': 'This data may be redistributed and used without restriction.', 'geospatial_lat_max': 43.7054, 'acknowledgment': 'This deployment partially supported by ...', 'source': 'Observational data from a profiling glider', 'standard_name_vocabulary': 'CF-v25', 'keywords_vocabulary': 'GCMD Science Keywords', 'publisher_url': 'http://marine.rutgers.edu/cool/auvs', 'processing_level': 'Dataset taken from glider native file format', 'featureType': 'trajectory', 'publisher_email': 'kerfoot@marine.rutgers.edu', 'creator_email': 'kerfoot@marine.rutgers.edu', 'title': 'Slocum Glider Dataset', 'date_issued': '2013-10-15 12:26 UTC', 'geospatial_lat_min': 43.70331, 'geospatial_lat_resolution': 'point', 'time_coverage_start': '2013-10-15 15:49 UTC', 'metadata_link': '', 'geospatial_vertical_positive': 'down', 'creator_url': 'http://marine.rutgers.edu/cool/auvs', 'institution': 'Institute of Marine & Coastal Sciences, Rutgers University', 'geospatial_lon_max': -69.3735, 'geospatial_lon_min': -69.37891, 'geospatial_lon_resolution': 'point', 'contributor_name': 'Scott Glenn, Oscar Schofield, John Kerfoot', 'geospatial_vertical_resolution': 'point', 'creator_name': 'John Kerfoot', 'date_modified': '2013-10-15 12:26 UTC', 'time_coverage_end': '2013-10-15 16:01 UTC', 'Conventions': 'CF-1.6', 'project': 'Deployment not project based', 'cdm_data_type': 'Trajectory', 'source_file': '/home/kerfoot/sandbox/glider/deployments-test/2013/penobscot-389/ascii/queue/penobscot_2013_287_3_0_sbd.dat', 'geospatial_vertical_min': 0.0, 'date_created': '2013-10-15 12:26 UTC', 'geospatial_vertical_units': 'meters', 'history': 'Created 2013-10-15 12:26 UTC'}}\n"
       ]
      }
     ],
     "prompt_number": 14
    },
    {
     "cell_type": "code",
     "collapsed": false,
     "input": [
      "print dataset.data"
     ],
     "language": "python",
     "metadata": {},
     "outputs": []
    },
    {
     "cell_type": "code",
     "collapsed": false,
     "input": [
      "print dataset.keys.im_self\n"
     ],
     "language": "python",
     "metadata": {},
     "outputs": [
      {
       "output_type": "stream",
       "stream": "stdout",
       "text": [
        "{'trajectory': <pydap.model.BaseType object at 0x7fa09c947650>, 'v': <pydap.model.BaseType object at 0x7fa0b819ca50>, 'platform': <pydap.model.BaseType object at 0x7fa0b819c6d0>, 'instrument_ctd': <pydap.model.BaseType object at 0x7fa09c93fc90>, 'time': <pydap.model.BaseType object at 0x7fa09c93fbd0>, 'time_qc': <pydap.model.BaseType object at 0x7fa09c93f2d0>, 'segment_id': <pydap.model.BaseType object at 0x7fa09c93f7d0>, 'profile_id': <pydap.model.BaseType object at 0x7fa09c93fd50>, 'depth': <pydap.model.BaseType object at 0x7fa09c93fb90>, 'depth_qc': <pydap.model.BaseType object at 0x7fa09c93f4d0>, 'lat': <pydap.model.BaseType object at 0x7fa09c93f390>, 'lat_qc': <pydap.model.BaseType object at 0x7fa09c93f890>, 'lon': <pydap.model.BaseType object at 0x7fa09c4bab90>, 'lon_qc': <pydap.model.BaseType object at 0x7fa09c4ba410>, 'pressure': <pydap.model.BaseType object at 0x7fa09c4ba190>, 'pressure_qc': <pydap.model.BaseType object at 0x7fa09c4ba310>, 'conductivity': <pydap.model.BaseType object at 0x7fa09c4ba590>, 'conductivity_qc': <pydap.model.BaseType object at 0x7fa09c4ba510>, 'density': <pydap.model.BaseType object at 0x7fa09c4ba090>, 'density_qc': <pydap.model.BaseType object at 0x7fa09c4ba290>, 'salinity': <pydap.model.BaseType object at 0x7fa09c4ba490>, 'salinity_qc': <pydap.model.BaseType object at 0x7fa09c4ba110>, 'temperature': <pydap.model.BaseType object at 0x7fa09c4ba610>, 'temperature_qc': <pydap.model.BaseType object at 0x7fa09c4ba390>}\n"
       ]
      }
     ],
     "prompt_number": 13
    },
    {
     "cell_type": "code",
     "collapsed": false,
     "input": [
      "url='http://tds.gliders.ioos.us/thredds/dodsC/University-of-Maine_penobscot-20130910T1658_Time.ncml'\n",
      "\n",
      "# \n",
      "dataset=open_url(url)\n",
      "\n",
      "print dataset.attributes\n"
     ],
     "language": "python",
     "metadata": {},
     "outputs": [
      {
       "output_type": "stream",
       "stream": "stdout",
       "text": [
        "{'NC_GLOBAL': {'comment': 'Data provided by the Mid-Atlantic Regional Association Coastal Ocean Observing System', 'geospatial_vertical_max': 303.4, 'contributor_role': 'Principal Investigator, Principal Investigator, Data Manager', 'format_version': 'IOOS_Glider_NetCDF_Trajectory_Template_v0.0', 'sea_name': 'South Atlantic Ocean', 'geospatial_lat_units': 'degrees_north', 'geospatial_lon_units': 'degrees_east', 'references': '', 'Metadata_Conventions': 'Unidata Dataset Discovery v1.0', 'keywords': 'Oceans > Ocean Pressure > Water Pressure, Oceans > Ocean Temperature > Water Temperature, Oceans > Salinity/Density > Conductivity, Oceans > Salinity/Density > Density, Oceans > Salinity/Density > Salinity', 'summary': \"The Rutgers University Coastal Ocean Observation Lab has deployed autonomous underwater gliders around the world since 1990. Gliders are small, free-swimming, unmanned vehicles that use changes in buoyancy to move vertically and horizontally through the water column in a saw-tooth pattern. They are deployed for days to several months and gather detailed information about the physical, chemical and biological processes of the world's The Slocum glider was designed and oceans. built by Teledyne Webb Research Corporation, Falmouth, MA, USA.\", 'publisher_name': 'John Kerfoot', 'id': 'penobscot-20131015T154959', 'naming_authority': 'edu.rutgers.marine', 'time_coverage_resolution': 'point', 'license': 'This data may be redistributed and used without restriction.', 'geospatial_lat_max': 43.7054, 'acknowledgment': 'This deployment partially supported by ...', 'source': 'Observational data from a profiling glider', 'standard_name_vocabulary': 'CF-v25', 'keywords_vocabulary': 'GCMD Science Keywords', 'publisher_url': 'http://marine.rutgers.edu/cool/auvs', 'processing_level': 'Dataset taken from glider native file format', 'featureType': 'trajectory', 'publisher_email': 'kerfoot@marine.rutgers.edu', 'creator_email': 'kerfoot@marine.rutgers.edu', 'title': 'Slocum Glider Dataset', 'date_issued': '2013-10-15 12:26 UTC', 'geospatial_lat_min': 43.70331, 'geospatial_lat_resolution': 'point', 'time_coverage_start': '2013-10-15 15:49 UTC', 'metadata_link': '', 'geospatial_vertical_positive': 'down', 'creator_url': 'http://marine.rutgers.edu/cool/auvs', 'institution': 'Institute of Marine & Coastal Sciences, Rutgers University', 'geospatial_lon_max': -69.3735, 'geospatial_lon_min': -69.37891, 'geospatial_lon_resolution': 'point', 'contributor_name': 'Scott Glenn, Oscar Schofield, John Kerfoot', 'geospatial_vertical_resolution': 'point', 'creator_name': 'John Kerfoot', 'date_modified': '2013-10-15 12:26 UTC', 'time_coverage_end': '2013-10-15 16:01 UTC', 'Conventions': 'CF-1.6', 'project': 'Deployment not project based', 'cdm_data_type': 'Trajectory', 'source_file': '/home/kerfoot/sandbox/glider/deployments-test/2013/penobscot-389/ascii/queue/penobscot_2013_287_3_0_sbd.dat', 'geospatial_vertical_min': 0.0, 'date_created': '2013-10-15 12:26 UTC', 'geospatial_vertical_units': 'meters', 'history': 'Created 2013-10-15 12:26 UTC'}}\n"
       ]
      }
     ],
     "prompt_number": 8
    },
    {
     "cell_type": "code",
     "collapsed": false,
     "input": [
      "# Load the CSV data directly into Pandas \n",
      "df = pd.read_csv(url,index_col='time',parse_dates=True,skiprows=[1])  # skip the units row \n",
      "# an example\n",
      "# http://gcoos1.tamu.edu:8080/erddap/tabledap/CAGES_Texas_Trawls_Lengths_IOOS_Standard.html \n",
      "\n",
      "dataset=open_url('http://gcoos1.tamu.edu:8080/erddap/tabledap/CAGES_Texas_Trawls_Lengths_IOOS_Standard')\n",
      "vars = dataset.keys()"
     ],
     "language": "python",
     "metadata": {},
     "outputs": []
    },
    {
     "cell_type": "code",
     "collapsed": false,
     "input": [
      "import urllib2 \n",
      "import pandas as pd \n",
      "\n",
      "url='http://osmc.noaa.gov:8180/erddap/tabledap/OSMC_PROFILERS\\\n",
      ".csv?time,longitude,latitude,observation_depth,observation_value\\ \n",
      "&time>=%s&time<=%s&parameter_name=\"%s\"&observation_depth<=%d' % (start,stop,param,depth_max) \n",
      "\n",
      "# Load the CSV data directly into Pandas \n",
      "df = pd.read_csv(url,index_col='time',parse_dates=True,skiprows=[1])  # skip the units row \n",
      "# an example\n",
      "# http://gcoos1.tamu.edu:8080/erddap/tabledap/CAGES_Texas_Trawls_Lengths_IOOS_Standard.html \n",
      "\n",
      "dataset=open_url('http://gcoos1.tamu.edu:8080/erddap/tabledap/CAGES_Texas_Trawls_Lengths_IOOS_Standard')\n",
      "vars = dataset.keys()"
     ],
     "language": "python",
     "metadata": {},
     "outputs": [
      {
       "ename": "SyntaxError",
       "evalue": "EOL while scanning string literal (<ipython-input-3-525965f4fdf7>, line 5)",
       "output_type": "pyerr",
       "traceback": [
        "\u001b[1;36m  File \u001b[1;32m\"<ipython-input-3-525965f4fdf7>\"\u001b[1;36m, line \u001b[1;32m5\u001b[0m\n\u001b[1;33m    url='http://osmc.noaa.gov:8180/erddap/tabledap/OSMC_PROFILERS.csv?time,longitude,latitude,observation_depth,observation_value\\\u001b[0m\n\u001b[1;37m                                                                                                                                  ^\u001b[0m\n\u001b[1;31mSyntaxError\u001b[0m\u001b[1;31m:\u001b[0m EOL while scanning string literal\n"
       ]
      }
     ],
     "prompt_number": 3
    },
    {
     "cell_type": "code",
     "collapsed": false,
     "input": [
      "from pydap.client import open_url\n",
      "\n",
      "url = 'http://data.ioos.us/gliders/erddap/'\n",
      "\n",
      "blah = open_url(url)"
     ],
     "language": "python",
     "metadata": {},
     "outputs": [
      {
       "ename": "Exception",
       "evalue": "Unable to parse token: <html><hea",
       "output_type": "pyerr",
       "traceback": [
        "\u001b[1;31m---------------------------------------------------------------------------\u001b[0m\n\u001b[1;31mException\u001b[0m                                 Traceback (most recent call last)",
        "\u001b[1;32m<ipython-input-3-75e015e8aaba>\u001b[0m in \u001b[0;36m<module>\u001b[1;34m()\u001b[0m\n\u001b[0;32m      3\u001b[0m \u001b[0murl\u001b[0m \u001b[1;33m=\u001b[0m \u001b[1;34m'http://data.ioos.us/gliders/erddap/'\u001b[0m\u001b[1;33m\u001b[0m\u001b[0m\n\u001b[0;32m      4\u001b[0m \u001b[1;33m\u001b[0m\u001b[0m\n\u001b[1;32m----> 5\u001b[1;33m \u001b[0mblah\u001b[0m \u001b[1;33m=\u001b[0m \u001b[0mopen_url\u001b[0m\u001b[1;33m(\u001b[0m\u001b[0murl\u001b[0m\u001b[1;33m)\u001b[0m\u001b[1;33m\u001b[0m\u001b[0m\n\u001b[0m",
        "\u001b[1;32m/home/cduncomberae/anaconda/envs/myenv/lib/python2.7/site-packages/pydap/client.pyc\u001b[0m in \u001b[0;36mopen_url\u001b[1;34m(url)\u001b[0m\n\u001b[0;32m     58\u001b[0m     \"\"\"\n\u001b[0;32m     59\u001b[0m     \u001b[1;32mfor\u001b[0m \u001b[0mresponse\u001b[0m \u001b[1;32min\u001b[0m \u001b[1;33m[\u001b[0m\u001b[0m_ddx\u001b[0m\u001b[1;33m,\u001b[0m \u001b[0m_ddsdas\u001b[0m\u001b[1;33m]\u001b[0m\u001b[1;33m:\u001b[0m\u001b[1;33m\u001b[0m\u001b[0m\n\u001b[1;32m---> 60\u001b[1;33m         \u001b[0mdataset\u001b[0m \u001b[1;33m=\u001b[0m \u001b[0mresponse\u001b[0m\u001b[1;33m(\u001b[0m\u001b[0murl\u001b[0m\u001b[1;33m)\u001b[0m\u001b[1;33m\u001b[0m\u001b[0m\n\u001b[0m\u001b[0;32m     61\u001b[0m         \u001b[1;32mif\u001b[0m \u001b[0mdataset\u001b[0m\u001b[1;33m:\u001b[0m \u001b[1;32mbreak\u001b[0m\u001b[1;33m\u001b[0m\u001b[0m\n\u001b[0;32m     62\u001b[0m     \u001b[1;32melse\u001b[0m\u001b[1;33m:\u001b[0m\u001b[1;33m\u001b[0m\u001b[0m\n",
        "\u001b[1;32m/home/cduncomberae/anaconda/envs/myenv/lib/python2.7/site-packages/pydap/client.pyc\u001b[0m in \u001b[0;36m_ddsdas\u001b[1;34m(url)\u001b[0m\n\u001b[0;32m    208\u001b[0m \u001b[1;33m\u001b[0m\u001b[0m\n\u001b[0;32m    209\u001b[0m     \u001b[1;31m# Build the dataset structure and attributes.\u001b[0m\u001b[1;33m\u001b[0m\u001b[1;33m\u001b[0m\u001b[0m\n\u001b[1;32m--> 210\u001b[1;33m     \u001b[0mdataset\u001b[0m \u001b[1;33m=\u001b[0m \u001b[0mDDSParser\u001b[0m\u001b[1;33m(\u001b[0m\u001b[0mdds\u001b[0m\u001b[1;33m)\u001b[0m\u001b[1;33m.\u001b[0m\u001b[0mparse\u001b[0m\u001b[1;33m(\u001b[0m\u001b[1;33m)\u001b[0m\u001b[1;33m\u001b[0m\u001b[0m\n\u001b[0m\u001b[0;32m    211\u001b[0m     \u001b[0mdataset\u001b[0m \u001b[1;33m=\u001b[0m \u001b[0mDASParser\u001b[0m\u001b[1;33m(\u001b[0m\u001b[0mdas\u001b[0m\u001b[1;33m,\u001b[0m \u001b[0mdataset\u001b[0m\u001b[1;33m)\u001b[0m\u001b[1;33m.\u001b[0m\u001b[0mparse\u001b[0m\u001b[1;33m(\u001b[0m\u001b[1;33m)\u001b[0m\u001b[1;33m\u001b[0m\u001b[0m\n\u001b[0;32m    212\u001b[0m     \u001b[1;32mreturn\u001b[0m \u001b[0mdataset\u001b[0m\u001b[1;33m\u001b[0m\u001b[0m\n",
        "\u001b[1;32m/home/cduncomberae/anaconda/envs/myenv/lib/python2.7/site-packages/pydap/parsers/dds.pyc\u001b[0m in \u001b[0;36m_dataset\u001b[1;34m(self)\u001b[0m\n\u001b[0;32m     24\u001b[0m         \u001b[0mdataset\u001b[0m \u001b[1;33m=\u001b[0m \u001b[0mDatasetType\u001b[0m\u001b[1;33m(\u001b[0m\u001b[1;33m)\u001b[0m\u001b[1;33m\u001b[0m\u001b[0m\n\u001b[0;32m     25\u001b[0m \u001b[1;33m\u001b[0m\u001b[0m\n\u001b[1;32m---> 26\u001b[1;33m         \u001b[0mself\u001b[0m\u001b[1;33m.\u001b[0m\u001b[0mconsume\u001b[0m\u001b[1;33m(\u001b[0m\u001b[1;34m'dataset'\u001b[0m\u001b[1;33m)\u001b[0m\u001b[1;33m\u001b[0m\u001b[0m\n\u001b[0m\u001b[0;32m     27\u001b[0m         \u001b[0mself\u001b[0m\u001b[1;33m.\u001b[0m\u001b[0mconsume\u001b[0m\u001b[1;33m(\u001b[0m\u001b[1;34m'{'\u001b[0m\u001b[1;33m)\u001b[0m\u001b[1;33m\u001b[0m\u001b[0m\n\u001b[0;32m     28\u001b[0m         \u001b[1;32mwhile\u001b[0m \u001b[0mself\u001b[0m\u001b[1;33m.\u001b[0m\u001b[0mpeek\u001b[0m\u001b[1;33m(\u001b[0m\u001b[1;34m'\\w+'\u001b[0m\u001b[1;33m)\u001b[0m\u001b[1;33m.\u001b[0m\u001b[0mlower\u001b[0m\u001b[1;33m(\u001b[0m\u001b[1;33m)\u001b[0m \u001b[1;32min\u001b[0m \u001b[0matomic_types\u001b[0m \u001b[1;33m+\u001b[0m \u001b[0mconstructors\u001b[0m\u001b[1;33m:\u001b[0m\u001b[1;33m\u001b[0m\u001b[0m\n",
        "\u001b[1;32m/home/cduncomberae/anaconda/envs/myenv/lib/python2.7/site-packages/pydap/parsers/dds.pyc\u001b[0m in \u001b[0;36mconsume\u001b[1;34m(self, regexp)\u001b[0m\n\u001b[0;32m     17\u001b[0m \u001b[1;33m\u001b[0m\u001b[0m\n\u001b[0;32m     18\u001b[0m     \u001b[1;32mdef\u001b[0m \u001b[0mconsume\u001b[0m\u001b[1;33m(\u001b[0m\u001b[0mself\u001b[0m\u001b[1;33m,\u001b[0m \u001b[0mregexp\u001b[0m\u001b[1;33m)\u001b[0m\u001b[1;33m:\u001b[0m\u001b[1;33m\u001b[0m\u001b[0m\n\u001b[1;32m---> 19\u001b[1;33m         \u001b[0mtoken\u001b[0m \u001b[1;33m=\u001b[0m \u001b[0mSimpleParser\u001b[0m\u001b[1;33m.\u001b[0m\u001b[0mconsume\u001b[0m\u001b[1;33m(\u001b[0m\u001b[0mself\u001b[0m\u001b[1;33m,\u001b[0m \u001b[0mregexp\u001b[0m\u001b[1;33m)\u001b[0m\u001b[1;33m\u001b[0m\u001b[0m\n\u001b[0m\u001b[0;32m     20\u001b[0m         \u001b[0mself\u001b[0m\u001b[1;33m.\u001b[0m\u001b[0mbuffer\u001b[0m \u001b[1;33m=\u001b[0m \u001b[0mself\u001b[0m\u001b[1;33m.\u001b[0m\u001b[0mbuffer\u001b[0m\u001b[1;33m.\u001b[0m\u001b[0mlstrip\u001b[0m\u001b[1;33m(\u001b[0m\u001b[1;33m)\u001b[0m\u001b[1;33m\u001b[0m\u001b[0m\n\u001b[0;32m     21\u001b[0m         \u001b[1;32mreturn\u001b[0m \u001b[0mtoken\u001b[0m\u001b[1;33m\u001b[0m\u001b[0m\n",
        "\u001b[1;32m/home/cduncomberae/anaconda/envs/myenv/lib/python2.7/site-packages/pydap/parsers/__init__.pyc\u001b[0m in \u001b[0;36mconsume\u001b[1;34m(self, regexp)\u001b[0m\n\u001b[0;32m     23\u001b[0m             \u001b[0mself\u001b[0m\u001b[1;33m.\u001b[0m\u001b[0mbuffer\u001b[0m \u001b[1;33m=\u001b[0m \u001b[0mself\u001b[0m\u001b[1;33m.\u001b[0m\u001b[0mbuffer\u001b[0m\u001b[1;33m[\u001b[0m\u001b[0mlen\u001b[0m\u001b[1;33m(\u001b[0m\u001b[0mtoken\u001b[0m\u001b[1;33m)\u001b[0m\u001b[1;33m:\u001b[0m\u001b[1;33m]\u001b[0m\u001b[1;33m\u001b[0m\u001b[0m\n\u001b[0;32m     24\u001b[0m         \u001b[1;32melse\u001b[0m\u001b[1;33m:\u001b[0m\u001b[1;33m\u001b[0m\u001b[0m\n\u001b[1;32m---> 25\u001b[1;33m             \u001b[1;32mraise\u001b[0m \u001b[0mException\u001b[0m\u001b[1;33m(\u001b[0m\u001b[1;34m\"Unable to parse token: %s\"\u001b[0m \u001b[1;33m%\u001b[0m \u001b[0mself\u001b[0m\u001b[1;33m.\u001b[0m\u001b[0mbuffer\u001b[0m\u001b[1;33m[\u001b[0m\u001b[1;33m:\u001b[0m\u001b[1;36m10\u001b[0m\u001b[1;33m]\u001b[0m\u001b[1;33m)\u001b[0m\u001b[1;33m\u001b[0m\u001b[0m\n\u001b[0m\u001b[0;32m     26\u001b[0m         \u001b[1;32mreturn\u001b[0m \u001b[0mtoken\u001b[0m\u001b[1;33m\u001b[0m\u001b[0m\n\u001b[0;32m     27\u001b[0m \u001b[1;33m\u001b[0m\u001b[0m\n",
        "\u001b[1;31mException\u001b[0m: Unable to parse token: <html><hea"
       ]
      }
     ],
     "prompt_number": 3
    },
    {
     "cell_type": "code",
     "collapsed": false,
     "input": [
      "http://tds.gliders.ioos.us/thredds/dodsC/University-of-Maine_penobscot-20130910T1658_Time.ncml"
     ],
     "language": "python",
     "metadata": {},
     "outputs": []
    }
   ],
   "metadata": {}
  }
 ]
}