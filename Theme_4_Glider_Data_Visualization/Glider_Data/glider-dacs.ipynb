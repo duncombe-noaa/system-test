{
 "metadata": {
  "name": "",
  "signature": "sha256:5ec0249a108ad2b4154deb6b87efd2819adc86177b1c61d8f45cec438b18dc49"
 },
 "nbformat": 3,
 "nbformat_minor": 0,
 "worksheets": [
  {
   "cells": [
    {
     "cell_type": "markdown",
     "metadata": {},
     "source": [
      "# Discovery Among the Glider DACs\n",
      "\n",
      "IOOS glider related repositories are found at\n",
      "- https://github.com/ioos/glider_dac_thredds_catalog Catalogs for the THREDDS Data Server at: http://tds.gliders.ioos.us/thredds/catalog.html (Version 1?)\n",
      "- https://github.com/ioos/glider-dac The IOOS Glider DAC site/scripts/tools http://gliders.ioos.us  \n",
      "- https://github.com/ioos/glider-dac-catalog Catalogs for IOOS Glider DAC v2 \n",
      "- https://github.com/ioos/ioosngdac  Documents describing the version 2.0 file format and design of the Integrated Ocean Observing System National Glider Data Assembly Center.\n",
      "\n",
      "http://data.ioos.us/gliders/thredds/catalog.html"
     ]
    }
   ],
   "metadata": {}
  }
 ]
}