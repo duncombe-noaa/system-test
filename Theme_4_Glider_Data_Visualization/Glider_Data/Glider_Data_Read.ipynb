{
 "metadata": {
  "name": "",
  "signature": "sha256:85357936bdc6984be361417f9d9723f8d12776efab58d71eeb55c0f68267ab25"
 },
 "nbformat": 3,
 "nbformat_minor": 0,
 "worksheets": [
  {
   "cells": [
    {
     "cell_type": "markdown",
     "metadata": {},
     "source": [
      "# Read Some Glider Data\n",
      "\n",
      "Not much about discovering places where to find data. Best is, go to the IOOS glider DAC site and learn a DAC URL there! We find \n",
      "<!-- Marketing! --> \n",
      "<!-- - http://www.ioos.noaa.gov/ioos_in_action/benefits/ocean_glider_network.html -->\n",
      "<!-- - http://www.ioos.noaa.gov/observing/observing_assets/glider_asset_map.html --> \n",
      "- http://tds.gliders.ioos.us/thredds/catalog.html\n"
     ]
    },
    {
     "cell_type": "code",
     "collapsed": false,
     "input": [
      "# Using Unidata python workshop examples as a template\n",
      "# Importing libraries we will need.\n",
      "import netCDF4\n",
      "%matplotlib inline\n",
      "import matplotlib.pyplot as plt\n",
      "import numpy as np\n",
      "\n",
      "from pyudl.tds import get_latest_dods_url"
     ],
     "language": "python",
     "metadata": {},
     "outputs": [],
     "prompt_number": 1
    },
    {
     "cell_type": "code",
     "collapsed": false,
     "input": [
      "# now they want us to use a file\n",
      "# Open the netCDF file\n",
      "# f = netCDF4.Dataset('data/rtofs_glo_3dz_f006_6hrly_reg3.nc', 'r')\n",
      "# but first lets go to the catalog and get some data\n",
      "\n",
      "\n",
      "# Open dataset. I don't care. I want something quick, even if it's absolutely filthy. Flesh it out and clean it up later.\n",
      "# dataset = netCDF4.Dataset('http://tds.gliders.ioos.us/thredds/dodsC/Scripps-Institution-of-Oceanography_sp025-20140611T1843_TimeUV.ncml?trajectory[0:1:0],platform,instrument_ctd,time_uv[0:1:887],lat_uv[0:1:887],lon_uv[0:1:887],u[0:1:887],u_qc[0:1:887],v[0:1:887],v_qc[0:1:887]') \n",
      "# timevar = dataset.variables['time']\n",
      "# timeindex = netCDF4.date2index(date, timevar) # find time index for desired date.\n",
      "\n",
      "# Problems with the glider data. Can we read ANY data?\n",
      "# dataset= netCDF4.Dataset('/home/cduncomberae/IOOS/unidata-python-workshop/data/rtofs_glo_3dz_f006_6hrly_reg3.nc')\n",
      "# timevar\n",
      "# YES, we can\n",
      "\n",
      "gfs_catalog_url = \"http://thredds.ucar.edu/thredds/catalog/grib/NCEP/GFS/Global_0p5deg/catalog.xml\" \n",
      "latest = get_latest_dods_url(gfs_catalog_url)\n"
     ],
     "language": "python",
     "metadata": {},
     "outputs": [],
     "prompt_number": 2
    },
    {
     "cell_type": "code",
     "collapsed": false,
     "input": [
      "latest"
     ],
     "language": "python",
     "metadata": {},
     "outputs": [
      {
       "metadata": {},
       "output_type": "pyout",
       "prompt_number": 8,
       "text": [
        "'http://thredds.ucar.edu/thredds/dodsC/grib/NCEP/GFS/Global_0p5deg/GFS_Global_0p5deg_20141203_0600.grib2/GC'"
       ]
      }
     ],
     "prompt_number": 8
    },
    {
     "cell_type": "code",
     "collapsed": false,
     "input": [
      "gfs = netCDF4.Dataset(latest)\n",
      "print gfs.variables.keys()"
     ],
     "language": "python",
     "metadata": {},
     "outputs": [
      {
       "output_type": "stream",
       "stream": "stdout",
       "text": [
        "[u'reftime_ISO', u'time2_bounds', u'time3_bounds', u'pressure_difference_layer_bounds', u'height_above_ground_layer_bounds', u'pressure_difference_layer1_bounds', u'sigma_layer_bounds', u'height_above_ground_layer1_bounds', u'depth_below_surface_layer_bounds', u'pressure_difference_layer2_bounds', u'lat', u'lon', u'reftime', u'time', u'time1', u'time2', u'time3', u'pressure_difference_layer', u'height_above_ground_layer', u'pressure_difference_layer1', u'potential_vorticity_surface', u'height_above_ground', u'altitude_above_msl', u'isobaric', u'isobaric1', u'isobaric2', u'sigma_layer', u'height_above_ground1', u'height_above_ground2', u'height_above_ground3', u'isobaric3', u'sigma', u'isobaric4', u'height_above_ground_layer1', u'height_above_ground4', u'depth_below_surface_layer', u'isobaric5', u'pressure_difference_layer2', u'Absolute_vorticity_isobaric', u'Albedo_surface_Mixed_intervals_Average', u'Cloud_mixing_ratio_isobaric', u'Cloud_water_entire_atmosphere', u'Convective_available_potential_energy_pressure_difference_layer', u'Convective_available_potential_energy_surface', u'Convective_inhibition_pressure_difference_layer', u'Convective_inhibition_surface', u'Convective_precipitation_surface_Mixed_intervals_Accumulation', u'Geopotential_height_tropopause', u'Geopotential_height_surface', u'Geopotential_height_zeroDegC_isotherm', u'Geopotential_height_isobaric', u'Geopotential_height_potential_vorticity_surface', u'Geopotential_height_highest_tropospheric_freezing', u'Geopotential_height_maximum_wind', u'Geopotential_height_anomaly_isobaric', u'Haines_Index_surface', u'ICAO_Standard_Atmosphere_Reference_Height_tropopause', u'ICAO_Standard_Atmosphere_Reference_Height_maximum_wind', u'Ice_cover_surface', u'Land_cover_0__sea_1__land_surface', u'Latent_heat_net_flux_surface_Mixed_intervals_Average', u'Maximum_temperature_height_above_ground_Mixed_intervals_Interval', u'Minimum_temperature_height_above_ground_Mixed_intervals_Interval', u'Momentum_flux_u-component_surface_Mixed_intervals_Average', u'Momentum_flux_v-component_surface_Mixed_intervals_Average', u'Potential_temperature_sigma', u'Precipitable_water_entire_atmosphere', u'Precipitation_rate_surface_Mixed_intervals_Average', u'Pressure_high_cloud_top_Mixed_intervals_Average', u'Pressure_high_cloud_bottom_Mixed_intervals_Average', u'Pressure_tropopause', u'Pressure_surface', u'Pressure_low_cloud_top_Mixed_intervals_Average', u'Pressure_low_cloud_bottom_Mixed_intervals_Average', u'Pressure_convective_cloud_top', u'Pressure_height_above_ground', u'Pressure_middle_cloud_bottom_Mixed_intervals_Average', u'Pressure_potential_vorticity_surface', u'Pressure_middle_cloud_top_Mixed_intervals_Average', u'Pressure_convective_cloud_bottom', u'Pressure_maximum_wind', u'Pressure_reduced_to_MSL_msl', u'Relative_humidity_sigma_layer', u'Relative_humidity_sigma', u'Relative_humidity_height_above_ground', u'Relative_humidity_entire_atmosphere', u'Relative_humidity_pressure_difference_layer', u'Relative_humidity_highest_tropospheric_freezing', u'Relative_humidity_isobaric', u'Relative_humidity_zeroDegC_isotherm', u'Sensible_heat_net_flux_surface_Mixed_intervals_Average', u'Specific_humidity_height_above_ground', u'Specific_humidity_pressure_difference_layer', u'Storm_relative_helicity_height_above_ground_layer', u'Temperature_low_cloud_top_Mixed_intervals_Average', u'Temperature_maximum_wind', u'Temperature_high_cloud_top_Mixed_intervals_Average', u'Temperature_surface', u'Temperature_middle_cloud_top_Mixed_intervals_Average', u'Temperature_depth_below_surface_layer', u'Temperature_height_above_ground', u'Temperature_altitude_above_msl', u'Temperature_tropopause', u'Temperature_potential_vorticity_surface', u'Temperature_isobaric', u'Temperature_pressure_difference_layer', u'Temperature_sigma', u'Total_cloud_cover_convective_cloud', u'Total_cloud_cover_boundary_layer_cloud_Mixed_intervals_Average', u'Total_cloud_cover_high_cloud_Mixed_intervals_Average', u'Total_cloud_cover_middle_cloud_Mixed_intervals_Average', u'Total_cloud_cover_entire_atmosphere_Mixed_intervals_Average', u'Total_cloud_cover_low_cloud_Mixed_intervals_Average', u'Total_ozone_entire_atmosphere', u'Total_precipitation_surface_Mixed_intervals_Accumulation', u'Categorical_Rain_surface_Mixed_intervals_Average', u'Categorical_Freezing_Rain_surface_Mixed_intervals_Average', u'Categorical_Ice_Pellets_surface_Mixed_intervals_Average', u'Categorical_Snow_surface_Mixed_intervals_Average', u'Convective_Precipitation_Rate_surface_Mixed_intervals_Average', u'Potential_Evaporation_Rate_surface', u'Ozone_Mixing_Ratio_isobaric', u'Vertical_Speed_Shear_potential_vorticity_surface', u'Vertical_Speed_Shear_tropopause', u'U-Component_Storm_Motion_height_above_ground_layer', u'V-Component_Storm_Motion_height_above_ground_layer', u'Ventilation_Rate_planetary_boundary', u'MSLP_Eta_model_reduction_msl', u'5-Wave_Geopotential_Height_isobaric', u'Zonal_Flux_of_Gravity_Wave_Stress_surface_Mixed_intervals_Average', u'Meridional_Flux_of_Gravity_Wave_Stress_surface_Mixed_intervals_Average', u'Planetary_Boundary_Layer_Height_surface', u'5-Wave_Geopotential_Height_Anomaly_isobaric', u'Pressure_of_level_from_which_parcel_was_lifted_pressure_difference_layer', u'Downward_Short-Wave_Radiation_Flux_surface_Mixed_intervals_Average', u'Upward_Short-Wave_Radiation_Flux_surface_Mixed_intervals_Average', u'Upward_Short-Wave_Radiation_Flux_atmosphere_top_Mixed_intervals_Average', u'Downward_Long-Wave_Radp_Flux_surface_Mixed_intervals_Average', u'Upward_Long-Wave_Radp_Flux_atmosphere_top_Mixed_intervals_Average', u'Upward_Long-Wave_Radp_Flux_surface_Mixed_intervals_Average', u'Cloud_Work_Function_entire_atmosphere_Mixed_intervals_Average', u'Sunshine_Duration_surface', u'Surface_Lifted_Index_surface', u'Best_4_layer_Lifted_Index_surface', u'Volumetric_Soil_Moisture_Content_depth_below_surface_layer', u'Ground_Heat_Flux_surface_Mixed_intervals_Average', u'Wilting_Point_surface', u'Field_Capacity_surface', u'Vertical_velocity_pressure_sigma', u'Vertical_velocity_pressure_isobaric', u'Water_equivalent_of_accumulated_snow_depth_surface', u'Water_runoff_surface_Mixed_intervals_Accumulation', u'Wind_speed_gust_surface', u'u-component_of_wind_height_above_ground', u'u-component_of_wind_planetary_boundary', u'u-component_of_wind_sigma', u'u-component_of_wind_maximum_wind', u'u-component_of_wind_tropopause', u'u-component_of_wind_altitude_above_msl', u'u-component_of_wind_potential_vorticity_surface', u'u-component_of_wind_isobaric', u'u-component_of_wind_pressure_difference_layer', u'v-component_of_wind_height_above_ground', u'v-component_of_wind_planetary_boundary', u'v-component_of_wind_maximum_wind', u'v-component_of_wind_sigma', u'v-component_of_wind_tropopause', u'v-component_of_wind_altitude_above_msl', u'v-component_of_wind_potential_vorticity_surface', u'v-component_of_wind_isobaric', u'v-component_of_wind_pressure_difference_layer']\n"
       ]
      }
     ],
     "prompt_number": 31
    },
    {
     "cell_type": "code",
     "collapsed": false,
     "input": [
      "# temp=gfs.variables['temperature']\n",
      "result=[]\n",
      "for key in gfs.variables.keys(): \n",
      "    if 'temperature' in key.lower():\n",
      "        result.append(key)\n",
      "\n",
      "result"
     ],
     "language": "python",
     "metadata": {},
     "outputs": [
      {
       "metadata": {},
       "output_type": "pyout",
       "prompt_number": 30,
       "text": [
        "[u'Maximum_temperature_height_above_ground_Mixed_intervals_Interval',\n",
        " u'Minimum_temperature_height_above_ground_Mixed_intervals_Interval',\n",
        " u'Potential_temperature_sigma',\n",
        " u'Temperature_low_cloud_top_Mixed_intervals_Average',\n",
        " u'Temperature_maximum_wind',\n",
        " u'Temperature_high_cloud_top_Mixed_intervals_Average',\n",
        " u'Temperature_surface',\n",
        " u'Temperature_middle_cloud_top_Mixed_intervals_Average',\n",
        " u'Temperature_depth_below_surface_layer',\n",
        " u'Temperature_height_above_ground',\n",
        " u'Temperature_altitude_above_msl',\n",
        " u'Temperature_tropopause',\n",
        " u'Temperature_potential_vorticity_surface',\n",
        " u'Temperature_isobaric',\n",
        " u'Temperature_pressure_difference_layer',\n",
        " u'Temperature_sigma']"
       ]
      }
     ],
     "prompt_number": 30
    },
    {
     "cell_type": "code",
     "collapsed": false,
     "input": [
      "# from subprocess import call\n",
      "# call(['wget', latest])\n",
      "# help('subprocess.call')"
     ],
     "language": "python",
     "metadata": {},
     "outputs": [
      {
       "metadata": {},
       "output_type": "pyout",
       "prompt_number": 7,
       "text": [
        "8"
       ]
      }
     ],
     "prompt_number": 7
    },
    {
     "cell_type": "code",
     "collapsed": false,
     "input": [
      "type(gfs)\n",
      "\n",
      "gfs\n"
     ],
     "language": "python",
     "metadata": {},
     "outputs": [
      {
       "metadata": {},
       "output_type": "pyout",
       "prompt_number": 12,
       "text": [
        "<netCDF4.Dataset at 0x7ff932e30b00>"
       ]
      }
     ],
     "prompt_number": 12
    }
   ],
   "metadata": {}
  }
 ]
}