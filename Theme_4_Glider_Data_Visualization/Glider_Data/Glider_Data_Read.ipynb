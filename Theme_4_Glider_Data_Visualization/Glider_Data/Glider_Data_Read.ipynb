{
 "metadata": {
  "name": "",
  "signature": "sha256:0a6b0ee2661c07b0803ceb263e262af1c5095bf30217c44bbaee464a56d8115c"
 },
 "nbformat": 3,
 "nbformat_minor": 0,
 "worksheets": [
  {
   "cells": [
    {
     "cell_type": "markdown",
     "metadata": {},
     "source": [
      "# Read Some Glider Data\n",
      "\n",
      "First set up some packages that we are going to use:"
     ]
    },
    {
     "cell_type": "code",
     "collapsed": false,
     "input": [
      "# Using Unidata python workshop examples as a template\n",
      "# Importing libraries we will need.\n",
      "import netCDF4\n",
      "%matplotlib inline\n",
      "import matplotlib.pyplot as plt\n",
      "import numpy as np\n",
      "import cartopy\n",
      "\n",
      "from pyudl.tds import get_latest_dods_url"
     ],
     "language": "python",
     "metadata": {},
     "outputs": [],
     "prompt_number": 31
    },
    {
     "cell_type": "markdown",
     "metadata": {},
     "source": [
      "One of the tasks I'm having difficulty with is finding out where to find data. For a start, let's just go to the IOOS glider \n",
      "DAC site and find a DAC URL there! We go to \n",
      "<!-- Marketing! --> \n",
      "- http://www.ioos.noaa.gov/ioos_in_action/benefits/ocean_glider_network.html    \n",
      "<!-- - http://www.ioos.noaa.gov/observing/observing_assets/glider_asset_map.html --> \n",
      "\n",
      "and find a link there:   \n",
      "- http://tds.gliders.ioos.us/thredds/catalog.html    \n",
      "\n",
      "Turns out we can probably get a better view from here:\n",
      "- http://gliders.ioos.us\n",
      "\n",
      "but following the first clue, we get to a list of folders with files in them. Picking one at random, "
     ]
    },
    {
     "cell_type": "code",
     "collapsed": false,
     "input": [
      "dataset = \"http://tds.gliders.ioos.us/thredds/dodsC/University-of-Maine_penobscot-20130910T1658_Time.ncml\"\n",
      "print dataset\n",
      "\n",
      "igd = netCDF4.Dataset(dataset)\n",
      "print  igd.variables.keys()"
     ],
     "language": "python",
     "metadata": {},
     "outputs": [
      {
       "output_type": "stream",
       "stream": "stdout",
       "text": [
        "http://tds.gliders.ioos.us/thredds/dodsC/University-of-Maine_penobscot-20130910T1658_Time.ncml\n",
        "[u'trajectory', u'v', u'platform', u'instrument_ctd', u'time', u'time_qc', u'segment_id', u'profile_id', u'depth', u'depth_qc', u'lat', u'lat_qc', u'lon', u'lon_qc', u'pressure', u'pressure_qc', u'conductivity', u'conductivity_qc', u'density', u'density_qc', u'salinity', u'salinity_qc', u'temperature', u'temperature_qc']"
       ]
      },
      {
       "output_type": "stream",
       "stream": "stdout",
       "text": [
        "\n"
       ]
      }
     ],
     "prompt_number": 2
    },
    {
     "cell_type": "markdown",
     "metadata": {},
     "source": [
      "Set up a quick function to collect the data variables available:"
     ]
    },
    {
     "cell_type": "code",
     "collapsed": false,
     "input": [
      "# temp=gfs.variables['temperature']\n",
      "def findVariables(var,substr):\n",
      "    result=[]\n",
      "    for key in var.variables.keys():\n",
      "        if substr.lower() in key.lower(): result.append(key)\n",
      "    return result"
     ],
     "language": "python",
     "metadata": {},
     "outputs": [],
     "prompt_number": 3
    },
    {
     "cell_type": "code",
     "collapsed": false,
     "input": [
      "print findVariables(igd,\"temperature\")\n",
      "print findVariables(igd,\"salinity\")\n",
      "print findVariables(igd,\"lat\")\n",
      "print findVariables(igd,\"lon\")\n",
      "print findVariables(igd,\"time\")"
     ],
     "language": "python",
     "metadata": {},
     "outputs": [
      {
       "output_type": "stream",
       "stream": "stdout",
       "text": [
        "[u'temperature', u'temperature_qc']\n",
        "[u'salinity', u'salinity_qc']\n",
        "[u'platform', u'lat', u'lat_qc']\n",
        "[u'lon', u'lon_qc']\n",
        "[u'time', u'time_qc']\n"
       ]
      }
     ],
     "prompt_number": 4
    },
    {
     "cell_type": "code",
     "collapsed": false,
     "input": [
      "temp=igd.variables['temperature']\n",
      "print temp\n",
      "print temp.dimensions\n",
      "print temp.shape"
     ],
     "language": "python",
     "metadata": {},
     "outputs": [
      {
       "output_type": "stream",
       "stream": "stdout",
       "text": [
        "<type 'netCDF4.Variable'>\n",
        "float64 temperature(time)\n",
        "    _FillValue: 9.96920996839e+36\n",
        "    accuracy: \n",
        "    ancillary_variables: temperature_qc\n",
        "    coordinates: lon lat depth time\n",
        "    instrument: instrument_ctd\n",
        "    long_name: Temperature\n",
        "    observation_type: measured\n",
        "    platform: platform\n",
        "    precision: \n",
        "    resolution: \n",
        "    sensor_name: drv_sea_water_temperature\n",
        "    standard_name: sea_water_temperature\n",
        "    units: Celsius\n",
        "    valid_max: 40.0\n",
        "    valid_min: -5.0\n",
        "    _ChunkSize: 1\n",
        "unlimited dimensions: \n",
        "current shape = (225730,)\n",
        "filling off\n",
        "\n",
        "(u'time',)\n",
        "(225730,)\n"
       ]
      }
     ],
     "prompt_number": 6
    },
    {
     "cell_type": "code",
     "collapsed": false,
     "input": [
      "for d in igd.dimensions.items():\n",
      "    print d"
     ],
     "language": "python",
     "metadata": {},
     "outputs": [
      {
       "output_type": "stream",
       "stream": "stdout",
       "text": [
        "(u'time', <netCDF4.Dimension object at 0x7fea8b83d8c0>)\n",
        "(u'time_uv', <netCDF4.Dimension object at 0x7fea8bb279b0>)\n",
        "(u'trajectory', <netCDF4.Dimension object at 0x7fea8bb27140>)\n"
       ]
      }
     ],
     "prompt_number": 7
    },
    {
     "cell_type": "code",
     "collapsed": false,
     "input": [
      "time=igd.variables['time']\n",
      "print time.shape\n",
      "t=time[:]\n",
      "T=temp[:]\n",
      "print t[0:10]\n",
      "print T[0:10]"
     ],
     "language": "python",
     "metadata": {},
     "outputs": [
      {
       "output_type": "stream",
       "stream": "stdout",
       "text": [
        "(225730,)\n",
        "[  1.37883236e+09   1.37883236e+09   1.37883236e+09   1.37883238e+09\n",
        "   1.37883240e+09   1.37883241e+09   1.37883243e+09   1.37883245e+09\n",
        "   1.37883246e+09   1.37883248e+09]"
       ]
      },
      {
       "output_type": "stream",
       "stream": "stdout",
       "text": [
        "\n",
        "[0.0 -- 0.0 -- -- -- -- -- -- --]\n"
       ]
      }
     ],
     "prompt_number": 8
    },
    {
     "cell_type": "code",
     "collapsed": false,
     "input": [
      "# Okay, now we have an idea what our data looks like, lets do the other variables.\n",
      "salt=igd.variables['salinity']\n",
      "lat=igd.variables['lon']\n",
      "lon=igd.variables['lat']\n"
     ],
     "language": "python",
     "metadata": {},
     "outputs": [],
     "prompt_number": 9
    },
    {
     "cell_type": "code",
     "collapsed": false,
     "input": [
      "x=temp[~temp.mask]\n",
      "y=time[~temp.mask]\n",
      "plt.plot(y,x)\n",
      "\n",
      "print type(temp)\n",
      "print type(x)"
     ],
     "language": "python",
     "metadata": {},
     "outputs": [
      {
       "output_type": "stream",
       "stream": "stdout",
       "text": [
        "<type 'netCDF4.Variable'>\n",
        "<class 'numpy.ma.core.MaskedArray'>\n"
       ]
      },
      {
       "metadata": {},
       "output_type": "display_data",
       "png": "[encoded data removed]",
       "text": [
        "<matplotlib.figure.Figure at 0x7fea8b8694d0>"
       ]
      }
     ],
     "prompt_number": 10
    },
    {
     "cell_type": "markdown",
     "metadata": {},
     "source": [
      "Seems like mask is not working. Try without. "
     ]
    },
    {
     "cell_type": "code",
     "collapsed": false,
     "input": [
      "x=temp[:]\n",
      "y=time[:]\n",
      "fig=plt.figure()\n",
      "desc='Figure: Temperature vs Time'\n",
      "plt.figtext(0.5,0.15,desc,fontsize=12,ha='center')\n",
      "\n",
      "plt.plot(y,x, marker=r'.', color='m', markersize=1, clip_on=False, linewidth=0)\n",
      "plt.show"
     ],
     "language": "python",
     "metadata": {},
     "outputs": [
      {
       "metadata": {},
       "output_type": "pyout",
       "prompt_number": 19,
       "text": [
        "<function matplotlib.pyplot.show>"
       ]
      },
      {
       "metadata": {},
       "output_type": "display_data",
       "png": "[encoded data removed]",
       "text": [
        "<matplotlib.figure.Figure at 0x7fea8a1d9a50>"
       ]
      }
     ],
     "prompt_number": 19
    },
    {
     "cell_type": "code",
     "collapsed": false,
     "input": [
      "\n",
      "s=salt[:]\n",
      "t=temp[:]\n",
      "\n",
      "\n",
      "fig=plt.figure()\n",
      "ax = fig.add_subplot(111)\n",
      "desc='Figure: Temperature vs Salinity'\n",
      "\n",
      "plt.figtext(0.5,0.15,desc,fontsize=12,ha='center')\n",
      "\n",
      "\n",
      "# Don't show top and right axis\n",
      "ax.spines[\"right\"].set_visible(False)\n",
      "ax.spines[\"top\"].set_visible(False)\n",
      "\n",
      "ax.set_xlabel('Salinity (mg/kg)', fontweight='bold')\n",
      "ax.set_ylabel(u'Temperature (\\u00b0C)', fontweight='bold')\n",
      "\n",
      "\n",
      "ax.tick_params(axis='both', direction='out')\n",
      "ax.get_xaxis().tick_bottom() # remove unneeded ticks \n",
      "ax.get_yaxis().tick_left()\n",
      "\n",
      "ax.([31.5, 35, 5, 18])\n",
      "\n",
      "plt.plot(s[s>30],t[s>30], marker=r'.', color='r', markersize=1, clip_on=False, linewidth=0)\n",
      "plt.show\n",
      "\n",
      "# print type(salt)\n",
      "# print type(s)\n",
      "# t.data[2:100]"
     ],
     "language": "python",
     "metadata": {},
     "outputs": [
      {
       "ename": "AttributeError",
       "evalue": "'AxesSubplot' object has no attribute 'set_extent'",
       "output_type": "pyerr",
       "traceback": [
        "\u001b[1;31m---------------------------------------------------------------------------\u001b[0m\n\u001b[1;31mAttributeError\u001b[0m                            Traceback (most recent call last)",
        "\u001b[1;32m<ipython-input-32-e7740fcec427>\u001b[0m in \u001b[0;36m<module>\u001b[1;34m()\u001b[0m\n\u001b[0;32m     23\u001b[0m \u001b[0max\u001b[0m\u001b[1;33m.\u001b[0m\u001b[0mget_yaxis\u001b[0m\u001b[1;33m(\u001b[0m\u001b[1;33m)\u001b[0m\u001b[1;33m.\u001b[0m\u001b[0mtick_left\u001b[0m\u001b[1;33m(\u001b[0m\u001b[1;33m)\u001b[0m\u001b[1;33m\u001b[0m\u001b[0m\n\u001b[0;32m     24\u001b[0m \u001b[1;33m\u001b[0m\u001b[0m\n\u001b[1;32m---> 25\u001b[1;33m \u001b[0max\u001b[0m\u001b[1;33m.\u001b[0m\u001b[0mset_extent\u001b[0m\u001b[1;33m(\u001b[0m\u001b[1;33m[\u001b[0m\u001b[1;36m31.5\u001b[0m\u001b[1;33m,\u001b[0m \u001b[1;36m35\u001b[0m\u001b[1;33m,\u001b[0m \u001b[1;36m5\u001b[0m\u001b[1;33m,\u001b[0m \u001b[1;36m18\u001b[0m\u001b[1;33m]\u001b[0m\u001b[1;33m)\u001b[0m\u001b[1;33m\u001b[0m\u001b[0m\n\u001b[0m\u001b[0;32m     26\u001b[0m \u001b[1;33m\u001b[0m\u001b[0m\n\u001b[0;32m     27\u001b[0m \u001b[0mplt\u001b[0m\u001b[1;33m.\u001b[0m\u001b[0mplot\u001b[0m\u001b[1;33m(\u001b[0m\u001b[0ms\u001b[0m\u001b[1;33m[\u001b[0m\u001b[0ms\u001b[0m\u001b[1;33m>\u001b[0m\u001b[1;36m30\u001b[0m\u001b[1;33m]\u001b[0m\u001b[1;33m,\u001b[0m\u001b[0mt\u001b[0m\u001b[1;33m[\u001b[0m\u001b[0ms\u001b[0m\u001b[1;33m>\u001b[0m\u001b[1;36m30\u001b[0m\u001b[1;33m]\u001b[0m\u001b[1;33m,\u001b[0m \u001b[0mmarker\u001b[0m\u001b[1;33m=\u001b[0m\u001b[1;34mr'.'\u001b[0m\u001b[1;33m,\u001b[0m \u001b[0mcolor\u001b[0m\u001b[1;33m=\u001b[0m\u001b[1;34m'r'\u001b[0m\u001b[1;33m,\u001b[0m \u001b[0mmarkersize\u001b[0m\u001b[1;33m=\u001b[0m\u001b[1;36m1\u001b[0m\u001b[1;33m,\u001b[0m \u001b[0mclip_on\u001b[0m\u001b[1;33m=\u001b[0m\u001b[0mFalse\u001b[0m\u001b[1;33m,\u001b[0m \u001b[0mlinewidth\u001b[0m\u001b[1;33m=\u001b[0m\u001b[1;36m0\u001b[0m\u001b[1;33m)\u001b[0m\u001b[1;33m\u001b[0m\u001b[0m\n",
        "\u001b[1;31mAttributeError\u001b[0m: 'AxesSubplot' object has no attribute 'set_extent'"
       ]
      },
      {
       "metadata": {},
       "output_type": "display_data",
       "png": "[encoded data removed]",
       "text": [
        "<matplotlib.figure.Figure at 0x7fea89d62310>"
       ]
      }
     ],
     "prompt_number": 32
    },
    {
     "cell_type": "code",
     "collapsed": false,
     "input": [
      "x=salt[i]\n",
      "y=time[i]\n",
      "plt.plot(y,x)"
     ],
     "language": "python",
     "metadata": {},
     "outputs": [
      {
       "ename": "TypeError",
       "evalue": "range() integer end argument expected, got numpy.float64.",
       "output_type": "pyerr",
       "traceback": [
        "\u001b[1;31m---------------------------------------------------------------------------\u001b[0m\n\u001b[1;31mTypeError\u001b[0m                                 Traceback (most recent call last)",
        "\u001b[1;32m<ipython-input-45-af74bf4b4a82>\u001b[0m in \u001b[0;36m<module>\u001b[1;34m()\u001b[0m\n\u001b[1;32m----> 1\u001b[1;33m \u001b[0mx\u001b[0m\u001b[1;33m=\u001b[0m\u001b[0msalt\u001b[0m\u001b[1;33m[\u001b[0m\u001b[0mi\u001b[0m\u001b[1;33m]\u001b[0m\u001b[1;33m\u001b[0m\u001b[0m\n\u001b[0m\u001b[0;32m      2\u001b[0m \u001b[0my\u001b[0m\u001b[1;33m=\u001b[0m\u001b[0mtime\u001b[0m\u001b[1;33m[\u001b[0m\u001b[0mi\u001b[0m\u001b[1;33m]\u001b[0m\u001b[1;33m\u001b[0m\u001b[0m\n\u001b[0;32m      3\u001b[0m \u001b[0mplt\u001b[0m\u001b[1;33m.\u001b[0m\u001b[0mplot\u001b[0m\u001b[1;33m(\u001b[0m\u001b[0my\u001b[0m\u001b[1;33m,\u001b[0m\u001b[0mx\u001b[0m\u001b[1;33m)\u001b[0m\u001b[1;33m\u001b[0m\u001b[0m\n",
        "\u001b[1;32m/home/cduncomberae/anaconda/envs/myenv/lib/python2.7/site-packages/netCDF4.so\u001b[0m in \u001b[0;36mnetCDF4.Variable.__getitem__ (netCDF4.c:36676)\u001b[1;34m()\u001b[0m\n",
        "\u001b[1;32m/home/cduncomberae/anaconda/envs/myenv/lib/python2.7/site-packages/netCDF4_utils.pyc\u001b[0m in \u001b[0;36m_StartCountStride\u001b[1;34m(elem, shape, dimensions, grp, datashape)\u001b[0m\n\u001b[0;32m    195\u001b[0m             \u001b[0mstep\u001b[0m \u001b[1;33m=\u001b[0m \u001b[0me\u001b[0m\u001b[1;33m[\u001b[0m\u001b[1;36m1\u001b[0m\u001b[1;33m]\u001b[0m\u001b[1;33m-\u001b[0m\u001b[0me\u001b[0m\u001b[1;33m[\u001b[0m\u001b[1;36m0\u001b[0m\u001b[1;33m]\u001b[0m\u001b[1;33m\u001b[0m\u001b[0m\n\u001b[0;32m    196\u001b[0m             \u001b[1;32mtry\u001b[0m\u001b[1;33m:\u001b[0m\u001b[1;33m\u001b[0m\u001b[0m\n\u001b[1;32m--> 197\u001b[1;33m                 \u001b[0mee\u001b[0m \u001b[1;33m=\u001b[0m \u001b[0mrange\u001b[0m\u001b[1;33m(\u001b[0m\u001b[0mstart\u001b[0m\u001b[1;33m,\u001b[0m\u001b[0mstop\u001b[0m\u001b[1;33m,\u001b[0m\u001b[0mstep\u001b[0m\u001b[1;33m)\u001b[0m\u001b[1;33m\u001b[0m\u001b[0m\n\u001b[0m\u001b[0;32m    198\u001b[0m             \u001b[1;32mexcept\u001b[0m \u001b[0mValueError\u001b[0m\u001b[1;33m:\u001b[0m \u001b[1;31m# start, stop or step is not valid for a range\u001b[0m\u001b[1;33m\u001b[0m\u001b[0m\n\u001b[0;32m    199\u001b[0m                 \u001b[0mee\u001b[0m \u001b[1;33m=\u001b[0m \u001b[0mFalse\u001b[0m\u001b[1;33m\u001b[0m\u001b[0m\n",
        "\u001b[1;31mTypeError\u001b[0m: range() integer end argument expected, got numpy.float64."
       ]
      }
     ],
     "prompt_number": 45
    },
    {
     "cell_type": "code",
     "collapsed": false,
     "input": [
      "x=lon\n",
      "y=lat\n",
      "plt.plot(y,x)"
     ],
     "language": "python",
     "metadata": {},
     "outputs": [
      {
       "metadata": {},
       "output_type": "pyout",
       "prompt_number": 14,
       "text": [
        "[<matplotlib.lines.Line2D at 0x7f71316b6d50>]"
       ]
      },
      {
       "metadata": {},
       "output_type": "display_data",
       "png": "[encoded data removed]",
       "text": [
        "<matplotlib.figure.Figure at 0x7f71316dea90>"
       ]
      }
     ],
     "prompt_number": 14
    },
    {
     "cell_type": "code",
     "collapsed": false,
     "input": [
      "#\n",
      "# close out the netcdf file when done\n",
      "\n",
      "igd.close()"
     ],
     "language": "python",
     "metadata": {},
     "outputs": []
    }
   ],
   "metadata": {}
  }
 ]
}