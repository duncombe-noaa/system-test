{
 "metadata": {
  "name": "",
  "signature": "sha256:79fa21bb2721e81e796eb5ab3f385c87e2b8f22bb8a9fc3ea33ae2deada60e39"
 },
 "nbformat": 3,
 "nbformat_minor": 0,
 "worksheets": [
  {
   "cells": [
    {
     "cell_type": "markdown",
     "metadata": {},
     "source": [
      "# Read Some Glider Data\n",
      "\n",
      "Not much about discovering places where to find data. Best is, go to the IOOS glider DAC site and learn a DAC URL there! We find \n",
      "<!-- Marketing! --> \n",
      "<!-- - http://www.ioos.noaa.gov/ioos_in_action/benefits/ocean_glider_network.html -->\n",
      "<!-- - http://www.ioos.noaa.gov/observing/observing_assets/glider_asset_map.html --> \n",
      "- http://tds.gliders.ioos.us/thredds/catalog.html\n"
     ]
    },
    {
     "cell_type": "code",
     "collapsed": false,
     "input": [
      "# Using Unidata python workshop examples as a template\n",
      "# Importing libraries we will need.\n",
      "import netCDF4\n",
      "%matplotlib inline\n",
      "import matplotlib.pyplot as plt\n",
      "import numpy as np\n",
      "\n",
      "from pyudl.tds import get_latest_dods_url"
     ],
     "language": "python",
     "metadata": {},
     "outputs": [],
     "prompt_number": 1
    },
    {
     "cell_type": "code",
     "collapsed": false,
     "input": [
      "# now they want us to use a file\n",
      "# Open the netCDF file\n",
      "# f = netCDF4.Dataset('data/rtofs_glo_3dz_f006_6hrly_reg3.nc', 'r')\n",
      "# but first lets go to the catalog and get some data\n",
      "\n",
      "\n",
      "# Open dataset. I don't care. I want something quick, even if it's absolutely filthy. Flesh it out and clean it up later.\n",
      "# dataset = netCDF4.Dataset('http://tds.gliders.ioos.us/thredds/dodsC/Scripps-Institution-of-Oceanography_sp025-20140611T1843_TimeUV.ncml?trajectory[0:1:0],platform,instrument_ctd,time_uv[0:1:887],lat_uv[0:1:887],lon_uv[0:1:887],u[0:1:887],u_qc[0:1:887],v[0:1:887],v_qc[0:1:887]') \n",
      "# timevar = dataset.variables['time']\n",
      "# timeindex = netCDF4.date2index(date, timevar) # find time index for desired date.\n",
      "\n",
      "# Problems with the glider data. Can we read ANY data?\n",
      "# dataset= netCDF4.Dataset('/home/cduncomberae/IOOS/unidata-python-workshop/data/rtofs_glo_3dz_f006_6hrly_reg3.nc')\n",
      "# timevar\n",
      "# YES, we can\n",
      "\n",
      "# gfs_catalog_url = \"http://thredds.ucar.edu/thredds/catalog/grib/NCEP/GFS/Global_0p5deg/catalog.xml\" \n",
      "# latest = get_latest_dods_url(gfs_catalog_url)\n",
      "\n",
      "# ioos_glider_catalog = \"http://tds.gliders.ioos.us/thredds/dodsC/Scripps-Institution-of-Oceanography_sp025-20140611T1843_Time.ncml\"\n",
      "# ioos_glider_catalog \n",
      "\n",
      "dataset = \"http://tds.gliders.ioos.us/thredds/dodsC/University-of-Maine_penobscot-20130910T1658_Time.ncml\"\n",
      "print dataset\n",
      "igd = netCDF4.Dataset(dataset)\n",
      "print  igd.variables.keys()\n"
     ],
     "language": "python",
     "metadata": {},
     "outputs": [
      {
       "output_type": "stream",
       "stream": "stdout",
       "text": [
        "http://tds.gliders.ioos.us/thredds/dodsC/University-of-Maine_penobscot-20130910T1658_Time.ncml\n",
        "[u'trajectory', u'v', u'platform', u'instrument_ctd', u'time', u'time_qc', u'segment_id', u'profile_id', u'depth', u'depth_qc', u'lat', u'lat_qc', u'lon', u'lon_qc', u'pressure', u'pressure_qc', u'conductivity', u'conductivity_qc', u'density', u'density_qc', u'salinity', u'salinity_qc', u'temperature', u'temperature_qc']"
       ]
      },
      {
       "output_type": "stream",
       "stream": "stdout",
       "text": [
        "\n"
       ]
      }
     ],
     "prompt_number": 2
    },
    {
     "cell_type": "code",
     "collapsed": false,
     "input": [
      "# temp=gfs.variables['temperature']\n",
      "def findVariables(var,substr):\n",
      "    result=[]\n",
      "    for key in var.variables.keys():\n",
      "        if substr.lower() in key.lower(): result.append(key)\n",
      "    return result"
     ],
     "language": "python",
     "metadata": {},
     "outputs": [],
     "prompt_number": 18
    },
    {
     "cell_type": "code",
     "collapsed": false,
     "input": [
      "print findVariables(igd,\"temperature\")\n",
      "print findVariables(igd,\"lat\")\n",
      "print findVariables(igd,\"lon\")\n",
      "print findVariables(igd,\"time\")\n"
     ],
     "language": "python",
     "metadata": {},
     "outputs": [
      {
       "output_type": "stream",
       "stream": "stdout",
       "text": [
        "[u'temperature', u'temperature_qc']\n",
        "[u'platform', u'lat', u'lat_qc']\n",
        "[u'lon', u'lon_qc']\n",
        "[u'time', u'time_qc']\n"
       ]
      }
     ],
     "prompt_number": 31
    },
    {
     "cell_type": "code",
     "collapsed": false,
     "input": [
      "temp=igd.variables['temperature']\n",
      "print temp\n",
      "print temp.dimensions\n",
      "print temp.shape"
     ],
     "language": "python",
     "metadata": {},
     "outputs": [
      {
       "output_type": "stream",
       "stream": "stdout",
       "text": [
        "<type 'netCDF4.Variable'>\n",
        "float64 temperature(time)\n",
        "    _FillValue: 9.96920996839e+36\n",
        "    accuracy: \n",
        "    ancillary_variables: temperature_qc\n",
        "    coordinates: lon lat depth time\n",
        "    instrument: instrument_ctd\n",
        "    long_name: Temperature\n",
        "    observation_type: measured\n",
        "    platform: platform\n",
        "    precision: \n",
        "    resolution: \n",
        "    sensor_name: drv_sea_water_temperature\n",
        "    standard_name: sea_water_temperature\n",
        "    units: Celsius\n",
        "    valid_max: 40.0\n",
        "    valid_min: -5.0\n",
        "    _ChunkSize: 1\n",
        "unlimited dimensions: \n",
        "current shape = (225730,)\n",
        "filling off\n",
        "\n",
        "(u'time',)\n",
        "(225730,)\n"
       ]
      }
     ],
     "prompt_number": 36
    },
    {
     "cell_type": "code",
     "collapsed": false,
     "input": [
      "for d in igd.dimensions.items():\n",
      "    print d"
     ],
     "language": "python",
     "metadata": {},
     "outputs": [
      {
       "output_type": "stream",
       "stream": "stdout",
       "text": [
        "(u'time', <netCDF4.Dimension object at 0x7fb0ee68a8c0>)\n",
        "(u'time_uv', <netCDF4.Dimension object at 0x7fb0ee9739b0>)\n",
        "(u'trajectory', <netCDF4.Dimension object at 0x7fb0ee973140>)\n"
       ]
      }
     ],
     "prompt_number": 21
    },
    {
     "cell_type": "code",
     "collapsed": false,
     "input": [
      "time=igd.variables['time']\n",
      "print time.shape\n",
      "t=time[:]\n",
      "T=temp[:]\n",
      "print t[0:10]\n",
      "print T[0:10]"
     ],
     "language": "python",
     "metadata": {},
     "outputs": [
      {
       "output_type": "stream",
       "stream": "stdout",
       "text": [
        "(225730,)\n",
        "[  1.37883236e+09   1.37883236e+09   1.37883236e+09   1.37883238e+09\n",
        "   1.37883240e+09   1.37883241e+09   1.37883243e+09   1.37883245e+09\n",
        "   1.37883246e+09   1.37883248e+09]\n",
        "[0.0 -- 0.0 -- -- -- -- -- -- --]\n"
       ]
      }
     ],
     "prompt_number": 46
    },
    {
     "cell_type": "code",
     "collapsed": false,
     "input": [],
     "language": "python",
     "metadata": {},
     "outputs": []
    }
   ],
   "metadata": {}
  }
 ]
}