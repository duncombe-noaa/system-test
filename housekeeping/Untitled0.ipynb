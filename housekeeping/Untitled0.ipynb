{
 "metadata": {
  "name": "",
  "signature": "sha256:2e317c8d4ec8552d19171c565b1621e65c18b3314606f5998070387d6aa889a9"
 },
 "nbformat": 3,
 "nbformat_minor": 0,
 "worksheets": [
  {
   "cells": [
    {
     "cell_type": "code",
     "collapsed": false,
     "input": [
      "!echo $$ PID\n",
      "\n"
     ],
     "language": "python",
     "metadata": {},
     "outputs": [
      {
       "output_type": "stream",
       "stream": "stdout",
       "text": [
        "15298 PID\r\n"
       ]
      }
     ],
     "prompt_number": 7
    }
   ],
   "metadata": {}
  }
 ]
}