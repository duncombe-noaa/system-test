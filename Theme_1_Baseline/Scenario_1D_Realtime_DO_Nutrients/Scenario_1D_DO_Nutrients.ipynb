{
 "metadata": {
  "name": ""
 },
 "nbformat": 3,
 "nbformat_minor": 0,
 "worksheets": [
  {
   "cells": [
    {
     "cell_type": "markdown",
     "metadata": {},
     "source": [
      "# IOOS System Test - Theme 1 - Scenario D - [Description](https://github.com/ioos/system-test/wiki/Development-of-Test-Themes#theme1)/[Discussion](https://github.com/ioos/system-test/issues/114)\n",
      "\n",
      "## Exploring Dissolved Oxygen and Nutrient Data\n",
      "\n",
      "## Questions\n",
      "1. Can we discover, access, and overlay dissolved oxygen information?\n",
      "2. Can we discover, access, and overlay nutrient information \n",
      "3. Is data from different sensors or sources directly comparable?\n",
      "4. If not, how much work is necessary to aggregate these streams?\n",
      "5. Is metadata for these data intelligable?"
     ]
    },
    {
     "cell_type": "markdown",
     "metadata": {},
     "source": [
      "## Q1 - Can we discover, access, and overlay dissolved oxygen information?"
     ]
    },
    {
     "cell_type": "code",
     "collapsed": false,
     "input": [],
     "language": "python",
     "metadata": {},
     "outputs": []
    },
    {
     "cell_type": "code",
     "collapsed": false,
     "input": [],
     "language": "python",
     "metadata": {},
     "outputs": []
    }
   ],
   "metadata": {}
  }
 ]
}